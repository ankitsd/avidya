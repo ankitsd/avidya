{
  "nbformat": 4,
  "nbformat_minor": 0,
  "metadata": {
    "colab": {
      "name": "Welcome To Colaboratory",
      "provenance": [],
      "collapsed_sections": [],
      "toc_visible": true,
      "include_colab_link": true
    },
    "kernelspec": {
      "display_name": "Python 3",
      "name": "python3"
    }
  },
  "cells": [
    {
      "cell_type": "markdown",
      "metadata": {
        "id": "view-in-github",
        "colab_type": "text"
      },
      "source": [
        "<a href=\"https://colab.research.google.com/github/ankitsd/avidya/blob/master/Welcome_To_Colaboratory.ipynb\" target=\"_parent\"><img src=\"https://colab.research.google.com/assets/colab-badge.svg\" alt=\"Open In Colab\"/></a>"
      ]
    },
    {
      "cell_type": "code",
      "metadata": {
        "id": "-taS5PYKcFvH",
        "colab_type": "code",
        "colab": {
          "base_uri": "https://localhost:8080/",
          "height": 204
        },
        "outputId": "fd0cdbd6-4cf0-4874-c1e2-3460d8ee31c7"
      },
      "source": [
        "!wget https://datahack-prod.s3.amazonaws.com/test_file/test_QyjYwdj.csv"
      ],
      "execution_count": 11,
      "outputs": [
        {
          "output_type": "stream",
          "text": [
            "--2019-10-01 14:19:55--  https://datahack-prod.s3.amazonaws.com/test_file/test_QyjYwdj.csv\n",
            "Resolving datahack-prod.s3.amazonaws.com (datahack-prod.s3.amazonaws.com)... 52.219.64.52\n",
            "Connecting to datahack-prod.s3.amazonaws.com (datahack-prod.s3.amazonaws.com)|52.219.64.52|:443... connected.\n",
            "HTTP request sent, awaiting response... 200 OK\n",
            "Length: 878614 (858K) [text/csv]\n",
            "Saving to: ‘test_QyjYwdj.csv.2’\n",
            "\n",
            "test_QyjYwdj.csv.2  100%[===================>] 858.02K   612KB/s    in 1.4s    \n",
            "\n",
            "2019-10-01 14:19:58 (612 KB/s) - ‘test_QyjYwdj.csv.2’ saved [878614/878614]\n",
            "\n"
          ],
          "name": "stdout"
        }
      ]
    },
    {
      "cell_type": "code",
      "metadata": {
        "id": "0EgQzqIwcJIB",
        "colab_type": "code",
        "colab": {
          "base_uri": "https://localhost:8080/",
          "height": 204
        },
        "outputId": "b9cdcf0a-25b3-4cdd-e84c-e5662e49e1b7"
      },
      "source": [
        "!wget https://datahack-prod.s3.amazonaws.com/train_file/train_AUpWtIz.zip\n",
        "\n"
      ],
      "execution_count": 12,
      "outputs": [
        {
          "output_type": "stream",
          "text": [
            "--2019-10-01 14:19:59--  https://datahack-prod.s3.amazonaws.com/train_file/train_AUpWtIz.zip\n",
            "Resolving datahack-prod.s3.amazonaws.com (datahack-prod.s3.amazonaws.com)... 52.219.62.12\n",
            "Connecting to datahack-prod.s3.amazonaws.com (datahack-prod.s3.amazonaws.com)|52.219.62.12|:443... connected.\n",
            "HTTP request sent, awaiting response... 200 OK\n",
            "Length: 11460701 (11M) [application/zip]\n",
            "Saving to: ‘train_AUpWtIz.zip.2’\n",
            "\n",
            "train_AUpWtIz.zip.2 100%[===================>]  10.93M  4.53MB/s    in 2.4s    \n",
            "\n",
            "2019-10-01 14:20:03 (4.53 MB/s) - ‘train_AUpWtIz.zip.2’ saved [11460701/11460701]\n",
            "\n"
          ],
          "name": "stdout"
        }
      ]
    },
    {
      "cell_type": "code",
      "metadata": {
        "id": "LpNKuu60cWmT",
        "colab_type": "code",
        "colab": {
          "base_uri": "https://localhost:8080/",
          "height": 102
        },
        "outputId": "d7d0f96e-28fd-4b45-f7c3-6d3b60f1bb52"
      },
      "source": [
        "!ls"
      ],
      "execution_count": 13,
      "outputs": [
        {
          "output_type": "stream",
          "text": [
            "campaign_data.csv\t       __MACOSX\t\t   train_AUpWtIz.zip\n",
            "coupon_item_mapping.csv        sample_data\t   train_AUpWtIz.zip.1\n",
            "customer_demographics.csv      test_QyjYwdj.csv    train_AUpWtIz.zip.2\n",
            "customer_transaction_data.csv  test_QyjYwdj.csv.1  train.csv\n",
            "item_data.csv\t\t       test_QyjYwdj.csv.2\n"
          ],
          "name": "stdout"
        }
      ]
    },
    {
      "cell_type": "code",
      "metadata": {
        "id": "opt1FV_wwB6_",
        "colab_type": "code",
        "colab": {
          "base_uri": "https://localhost:8080/",
          "height": 238
        },
        "outputId": "893f9080-1204-4101-ef43-82ccaafedafd"
      },
      "source": [
        "!unzip train_AUpWtIz.zip"
      ],
      "execution_count": 14,
      "outputs": [
        {
          "output_type": "stream",
          "text": [
            "Archive:  train_AUpWtIz.zip\n",
            "replace coupon_item_mapping.csv? [y]es, [n]o, [A]ll, [N]one, [r]ename: n\n",
            "replace __MACOSX/._coupon_item_mapping.csv? [y]es, [n]o, [A]ll, [N]one, [r]ename: n\n",
            "replace customer_demographics.csv? [y]es, [n]o, [A]ll, [N]one, [r]ename: n\n",
            "replace __MACOSX/._customer_demographics.csv? [y]es, [n]o, [A]ll, [N]one, [r]ename: n\n",
            "replace campaign_data.csv? [y]es, [n]o, [A]ll, [N]one, [r]ename: n\n",
            "replace __MACOSX/._campaign_data.csv? [y]es, [n]o, [A]ll, [N]one, [r]ename: n\n",
            "replace train.csv? [y]es, [n]o, [A]ll, [N]one, [r]ename: n\n",
            "replace __MACOSX/._train.csv? [y]es, [n]o, [A]ll, [N]one, [r]ename: n\n",
            "replace customer_transaction_data.csv? [y]es, [n]o, [A]ll, [N]one, [r]ename: n\n",
            "replace __MACOSX/._customer_transaction_data.csv? [y]es, [n]o, [A]ll, [N]one, [r]ename: n\n",
            "replace item_data.csv? [y]es, [n]o, [A]ll, [N]one, [r]ename: n\n",
            "replace __MACOSX/._item_data.csv? [y]es, [n]o, [A]ll, [N]one, [r]ename: n\n"
          ],
          "name": "stdout"
        }
      ]
    },
    {
      "cell_type": "code",
      "metadata": {
        "id": "TqQPFXtLwLz9",
        "colab_type": "code",
        "colab": {
          "base_uri": "https://localhost:8080/",
          "height": 102
        },
        "outputId": "175b2335-fad3-4374-e495-1bf8b2827146"
      },
      "source": [
        "!ls\n"
      ],
      "execution_count": 15,
      "outputs": [
        {
          "output_type": "stream",
          "text": [
            "campaign_data.csv\t       __MACOSX\t\t   train_AUpWtIz.zip\n",
            "coupon_item_mapping.csv        sample_data\t   train_AUpWtIz.zip.1\n",
            "customer_demographics.csv      test_QyjYwdj.csv    train_AUpWtIz.zip.2\n",
            "customer_transaction_data.csv  test_QyjYwdj.csv.1  train.csv\n",
            "item_data.csv\t\t       test_QyjYwdj.csv.2\n"
          ],
          "name": "stdout"
        }
      ]
    },
    {
      "cell_type": "code",
      "metadata": {
        "id": "G0zEMnvqwPfL",
        "colab_type": "code",
        "colab": {}
      },
      "source": [
        "import pandas as pd\n",
        "df_campaign = pd.read_csv(\"campaign_data.csv\")\n",
        "df_coupon = pd.read_csv(\"coupon_item_mapping.csv\")\n",
        "df_demo = pd.read_csv(\"customer_demographics.csv\")\n",
        "df_transaction = pd.read_csv(\"customer_transaction_data.csv\")\n",
        "df_item = pd.read_csv(\"item_data.csv\")\n",
        "train = pd.read_csv(\"train.csv\")"
      ],
      "execution_count": 0,
      "outputs": []
    },
    {
      "cell_type": "code",
      "metadata": {
        "id": "yGA5IUQ8w7ix",
        "colab_type": "code",
        "colab": {
          "base_uri": "https://localhost:8080/",
          "height": 1000
        },
        "outputId": "ec771ae5-f1f1-4885-c918-9eb85960af30"
      },
      "source": [
        "print(\"info campaign\",df_campaign.info())\n",
        "print(\"info coupon\",df_coupon.info())\n",
        "print(\"info demo\",df_demo.info())\n",
        "print(\"info transaction\",df_transaction.info())\n",
        "print(\"info item\",df_item.info())\n",
        "print(\"info train\",train.info())"
      ],
      "execution_count": 17,
      "outputs": [
        {
          "output_type": "stream",
          "text": [
            "<class 'pandas.core.frame.DataFrame'>\n",
            "RangeIndex: 28 entries, 0 to 27\n",
            "Data columns (total 4 columns):\n",
            "campaign_id      28 non-null int64\n",
            "campaign_type    28 non-null object\n",
            "start_date       28 non-null object\n",
            "end_date         28 non-null object\n",
            "dtypes: int64(1), object(3)\n",
            "memory usage: 976.0+ bytes\n",
            "info campaign None\n",
            "<class 'pandas.core.frame.DataFrame'>\n",
            "RangeIndex: 92663 entries, 0 to 92662\n",
            "Data columns (total 2 columns):\n",
            "coupon_id    92663 non-null int64\n",
            "item_id      92663 non-null int64\n",
            "dtypes: int64(2)\n",
            "memory usage: 1.4 MB\n",
            "info coupon None\n",
            "<class 'pandas.core.frame.DataFrame'>\n",
            "RangeIndex: 760 entries, 0 to 759\n",
            "Data columns (total 7 columns):\n",
            "customer_id       760 non-null int64\n",
            "age_range         760 non-null object\n",
            "marital_status    431 non-null object\n",
            "rented            760 non-null int64\n",
            "family_size       760 non-null object\n",
            "no_of_children    222 non-null object\n",
            "income_bracket    760 non-null int64\n",
            "dtypes: int64(3), object(4)\n",
            "memory usage: 41.6+ KB\n",
            "info demo None\n",
            "<class 'pandas.core.frame.DataFrame'>\n",
            "RangeIndex: 1324566 entries, 0 to 1324565\n",
            "Data columns (total 7 columns):\n",
            "date               1324566 non-null object\n",
            "customer_id        1324566 non-null int64\n",
            "item_id            1324566 non-null int64\n",
            "quantity           1324566 non-null int64\n",
            "selling_price      1324566 non-null float64\n",
            "other_discount     1324566 non-null float64\n",
            "coupon_discount    1324566 non-null float64\n",
            "dtypes: float64(3), int64(3), object(1)\n",
            "memory usage: 70.7+ MB\n",
            "info transaction None\n",
            "<class 'pandas.core.frame.DataFrame'>\n",
            "RangeIndex: 74066 entries, 0 to 74065\n",
            "Data columns (total 4 columns):\n",
            "item_id       74066 non-null int64\n",
            "brand         74066 non-null int64\n",
            "brand_type    74066 non-null object\n",
            "category      74066 non-null object\n",
            "dtypes: int64(2), object(2)\n",
            "memory usage: 2.3+ MB\n",
            "info item None\n",
            "<class 'pandas.core.frame.DataFrame'>\n",
            "RangeIndex: 78369 entries, 0 to 78368\n",
            "Data columns (total 5 columns):\n",
            "id                   78369 non-null int64\n",
            "campaign_id          78369 non-null int64\n",
            "coupon_id            78369 non-null int64\n",
            "customer_id          78369 non-null int64\n",
            "redemption_status    78369 non-null int64\n",
            "dtypes: int64(5)\n",
            "memory usage: 3.0 MB\n",
            "info train None\n"
          ],
          "name": "stdout"
        }
      ]
    },
    {
      "cell_type": "code",
      "metadata": {
        "id": "6REshfLFx6On",
        "colab_type": "code",
        "colab": {}
      },
      "source": [
        ""
      ],
      "execution_count": 0,
      "outputs": []
    }
  ]
}