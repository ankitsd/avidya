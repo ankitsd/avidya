{
  "nbformat": 4,
  "nbformat_minor": 0,
  "metadata": {
    "colab": {
      "name": "Untitled4 (1).ipynb",
      "version": "0.3.2",
      "provenance": [],
      "collapsed_sections": [],
      "include_colab_link": true
    },
    "kernelspec": {
      "name": "python3",
      "display_name": "Python 3"
    }
  },
  "cells": [
    {
      "cell_type": "markdown",
      "metadata": {
        "id": "view-in-github",
        "colab_type": "text"
      },
      "source": [
        "<a href=\"https://colab.research.google.com/github/ankitsd/avidya/blob/master/try2.ipynb\" target=\"_parent\"><img src=\"https://colab.research.google.com/assets/colab-badge.svg\" alt=\"Open In Colab\"/></a>"
      ]
    },
    {
      "cell_type": "code",
      "metadata": {
        "id": "FCrQb3EBB7mO",
        "colab_type": "code",
        "outputId": "26f50358-d86f-4138-c912-8a4b8981fbef",
        "colab": {
          "base_uri": "https://localhost:8080/",
          "height": 204
        }
      },
      "source": [
        "!wget https://datahack-prod.s3.amazonaws.com/test_file/test_Jwt0MQH.zip"
      ],
      "execution_count": 1,
      "outputs": [
        {
          "output_type": "stream",
          "text": [
            "--2019-05-04 20:50:53--  https://datahack-prod.s3.amazonaws.com/test_file/test_Jwt0MQH.zip\n",
            "Resolving datahack-prod.s3.amazonaws.com (datahack-prod.s3.amazonaws.com)... 52.219.62.76\n",
            "Connecting to datahack-prod.s3.amazonaws.com (datahack-prod.s3.amazonaws.com)|52.219.62.76|:443... connected.\n",
            "HTTP request sent, awaiting response... 200 OK\n",
            "Length: 10810428 (10M) [application/zip]\n",
            "Saving to: ‘test_Jwt0MQH.zip.3’\n",
            "\n",
            "test_Jwt0MQH.zip.3  100%[===================>]  10.31M  4.49MB/s    in 2.3s    \n",
            "\n",
            "2019-05-04 20:50:56 (4.49 MB/s) - ‘test_Jwt0MQH.zip.3’ saved [10810428/10810428]\n",
            "\n"
          ],
          "name": "stdout"
        }
      ]
    },
    {
      "cell_type": "code",
      "metadata": {
        "id": "30gcXUeACeGv",
        "colab_type": "code",
        "outputId": "55e0ae86-ea25-404e-c581-b66d546bd27e",
        "colab": {
          "base_uri": "https://localhost:8080/",
          "height": 204
        }
      },
      "source": [
        "!wget https://datahack-prod.s3.amazonaws.com/train_file/train_5CLrC8b.zip"
      ],
      "execution_count": 2,
      "outputs": [
        {
          "output_type": "stream",
          "text": [
            "--2019-05-04 20:50:59--  https://datahack-prod.s3.amazonaws.com/train_file/train_5CLrC8b.zip\n",
            "Resolving datahack-prod.s3.amazonaws.com (datahack-prod.s3.amazonaws.com)... 52.219.64.12\n",
            "Connecting to datahack-prod.s3.amazonaws.com (datahack-prod.s3.amazonaws.com)|52.219.64.12|:443... connected.\n",
            "HTTP request sent, awaiting response... 200 OK\n",
            "Length: 27621619 (26M) [application/zip]\n",
            "Saving to: ‘train_5CLrC8b.zip.3’\n",
            "\n",
            "train_5CLrC8b.zip.3 100%[===================>]  26.34M  6.62MB/s    in 4.0s    \n",
            "\n",
            "2019-05-04 20:51:04 (6.62 MB/s) - ‘train_5CLrC8b.zip.3’ saved [27621619/27621619]\n",
            "\n"
          ],
          "name": "stdout"
        }
      ]
    },
    {
      "cell_type": "code",
      "metadata": {
        "id": "I2Ejxh1fCoVT",
        "colab_type": "code",
        "outputId": "8f013ca8-96d2-4b9b-9ac9-ed336864d506",
        "colab": {
          "base_uri": "https://localhost:8080/",
          "height": 153
        }
      },
      "source": [
        "!unzip train_5CLrC8b.zip\n",
        "!unzip test_Jwt0MQH.zip"
      ],
      "execution_count": 3,
      "outputs": [
        {
          "output_type": "stream",
          "text": [
            "Archive:  train_5CLrC8b.zip\n",
            "replace Data_Dictionary.xlsx? [y]es, [n]o, [A]ll, [N]one, [r]ename: y\n",
            "  inflating: Data_Dictionary.xlsx    \n",
            "replace train.csv? [y]es, [n]o, [A]ll, [N]one, [r]ename: y\n",
            "  inflating: train.csv               \n",
            "Archive:  test_Jwt0MQH.zip\n",
            "replace test.csv? [y]es, [n]o, [A]ll, [N]one, [r]ename: y\n",
            "  inflating: test.csv                \n"
          ],
          "name": "stdout"
        }
      ]
    },
    {
      "cell_type": "code",
      "metadata": {
        "id": "7oWOkiq0es6D",
        "colab_type": "code",
        "colab": {}
      },
      "source": [
        "import pandas as pd\n",
        "from datetime import datetime\n",
        "dateparse = lambda x: datetime.strptime(x, '%d-%m-%Y')"
      ],
      "execution_count": 0,
      "outputs": []
    },
    {
      "cell_type": "code",
      "metadata": {
        "id": "7TB8Bs5zgKzW",
        "colab_type": "code",
        "colab": {
          "base_uri": "https://localhost:8080/",
          "height": 510
        },
        "outputId": "1e77f0c4-94b9-4887-b184-1e92ab8d8756"
      },
      "source": [
        "df_train = pd.read_csv(\"train.csv\",parse_dates=True,date_parser=dateparse)\n",
        "df_train.info()"
      ],
      "execution_count": 5,
      "outputs": [
        {
          "output_type": "stream",
          "text": [
            "<class 'pandas.core.frame.DataFrame'>\n",
            "RangeIndex: 341424 entries, 0 to 341423\n",
            "Data columns (total 24 columns):\n",
            "reservation_id                        341424 non-null object\n",
            "booking_date                          341424 non-null object\n",
            "checkin_date                          341424 non-null object\n",
            "checkout_date                         341424 non-null object\n",
            "channel_code                          341424 non-null int64\n",
            "main_product_code                     341424 non-null int64\n",
            "numberofadults                        341424 non-null int64\n",
            "numberofchildren                      341424 non-null int64\n",
            "persontravellingid                    341424 non-null int64\n",
            "resort_region_code                    341424 non-null int64\n",
            "resort_type_code                      341424 non-null int64\n",
            "room_type_booked_code                 341424 non-null int64\n",
            "roomnights                            341424 non-null int64\n",
            "season_holidayed_code                 341310 non-null float64\n",
            "state_code_residence                  336660 non-null float64\n",
            "state_code_resort                     341424 non-null int64\n",
            "total_pax                             341424 non-null int64\n",
            "member_age_buckets                    341424 non-null object\n",
            "booking_type_code                     341424 non-null int64\n",
            "memberid                              341424 non-null object\n",
            "cluster_code                          341424 non-null object\n",
            "reservationstatusid_code              341424 non-null object\n",
            "resort_id                             341424 non-null object\n",
            "amount_spent_per_room_night_scaled    341424 non-null float64\n",
            "dtypes: float64(3), int64(12), object(9)\n",
            "memory usage: 62.5+ MB\n"
          ],
          "name": "stdout"
        }
      ]
    },
    {
      "cell_type": "code",
      "metadata": {
        "id": "fWYwNzH8gN3N",
        "colab_type": "code",
        "colab": {
          "base_uri": "https://localhost:8080/",
          "height": 493
        },
        "outputId": "6b27f7ca-359d-44db-d2c8-f49b1e40ba73"
      },
      "source": [
        "df_test = pd.read_csv(\"test.csv\",parse_dates=True,date_parser=dateparse)\n",
        "df_test.info()"
      ],
      "execution_count": 6,
      "outputs": [
        {
          "output_type": "stream",
          "text": [
            "<class 'pandas.core.frame.DataFrame'>\n",
            "RangeIndex: 146765 entries, 0 to 146764\n",
            "Data columns (total 23 columns):\n",
            "reservation_id              146765 non-null object\n",
            "booking_date                146765 non-null object\n",
            "checkin_date                146765 non-null object\n",
            "checkout_date               146765 non-null object\n",
            "channel_code                146765 non-null int64\n",
            "main_product_code           146765 non-null int64\n",
            "numberofadults              146765 non-null int64\n",
            "numberofchildren            146765 non-null int64\n",
            "persontravellingid          146765 non-null int64\n",
            "resort_region_code          146765 non-null int64\n",
            "resort_type_code            146765 non-null int64\n",
            "room_type_booked_code       146765 non-null int64\n",
            "roomnights                  146765 non-null int64\n",
            "season_holidayed_code       146730 non-null float64\n",
            "state_code_residence        144505 non-null float64\n",
            "state_code_resort           146765 non-null int64\n",
            "total_pax                   146765 non-null int64\n",
            "member_age_buckets          146765 non-null object\n",
            "booking_type_code           146765 non-null int64\n",
            "memberid                    146765 non-null object\n",
            "cluster_code                146765 non-null object\n",
            "reservationstatusid_code    146765 non-null object\n",
            "resort_id                   146765 non-null object\n",
            "dtypes: float64(2), int64(12), object(9)\n",
            "memory usage: 25.8+ MB\n"
          ],
          "name": "stdout"
        }
      ]
    },
    {
      "cell_type": "code",
      "metadata": {
        "id": "twUv6KVggRc6",
        "colab_type": "code",
        "colab": {
          "base_uri": "https://localhost:8080/",
          "height": 153
        },
        "outputId": "87707fc9-bbfb-4c10-b61d-165a8f4b1803"
      },
      "source": [
        "from sklearn.utils import shuffle\n",
        "df_train = shuffle(df_train)\n",
        "df = df_train.append(df_test, ignore_index=1)"
      ],
      "execution_count": 7,
      "outputs": [
        {
          "output_type": "stream",
          "text": [
            "/usr/local/lib/python3.6/dist-packages/pandas/core/frame.py:6692: FutureWarning: Sorting because non-concatenation axis is not aligned. A future version\n",
            "of pandas will change to not sort by default.\n",
            "\n",
            "To accept the future behavior, pass 'sort=False'.\n",
            "\n",
            "To retain the current behavior and silence the warning, pass 'sort=True'.\n",
            "\n",
            "  sort=sort)\n"
          ],
          "name": "stderr"
        }
      ]
    },
    {
      "cell_type": "code",
      "metadata": {
        "id": "ZCVAOGrPgS1l",
        "colab_type": "code",
        "colab": {}
      },
      "source": [
        "import matplotlib\n",
        "%matplotlib inline\n",
        "import seaborn as sns\n",
        "\n",
        "\n",
        "\n"
      ],
      "execution_count": 0,
      "outputs": []
    },
    {
      "cell_type": "code",
      "metadata": {
        "id": "z29FGatagfyt",
        "colab_type": "code",
        "colab": {
          "base_uri": "https://localhost:8080/",
          "height": 317
        },
        "outputId": "ea502ec9-47f1-482a-a8de-d724806126ae"
      },
      "source": [
        "df.describe()"
      ],
      "execution_count": 9,
      "outputs": [
        {
          "output_type": "execute_result",
          "data": {
            "text/html": [
              "<div>\n",
              "<style scoped>\n",
              "    .dataframe tbody tr th:only-of-type {\n",
              "        vertical-align: middle;\n",
              "    }\n",
              "\n",
              "    .dataframe tbody tr th {\n",
              "        vertical-align: top;\n",
              "    }\n",
              "\n",
              "    .dataframe thead th {\n",
              "        text-align: right;\n",
              "    }\n",
              "</style>\n",
              "<table border=\"1\" class=\"dataframe\">\n",
              "  <thead>\n",
              "    <tr style=\"text-align: right;\">\n",
              "      <th></th>\n",
              "      <th>amount_spent_per_room_night_scaled</th>\n",
              "      <th>booking_type_code</th>\n",
              "      <th>channel_code</th>\n",
              "      <th>main_product_code</th>\n",
              "      <th>numberofadults</th>\n",
              "      <th>numberofchildren</th>\n",
              "      <th>persontravellingid</th>\n",
              "      <th>resort_region_code</th>\n",
              "      <th>resort_type_code</th>\n",
              "      <th>room_type_booked_code</th>\n",
              "      <th>roomnights</th>\n",
              "      <th>season_holidayed_code</th>\n",
              "      <th>state_code_residence</th>\n",
              "      <th>state_code_resort</th>\n",
              "      <th>total_pax</th>\n",
              "    </tr>\n",
              "  </thead>\n",
              "  <tbody>\n",
              "    <tr>\n",
              "      <th>count</th>\n",
              "      <td>341424.000000</td>\n",
              "      <td>488189.000000</td>\n",
              "      <td>488189.000000</td>\n",
              "      <td>488189.000000</td>\n",
              "      <td>488189.000000</td>\n",
              "      <td>488189.000000</td>\n",
              "      <td>488189.000000</td>\n",
              "      <td>488189.000000</td>\n",
              "      <td>488189.000000</td>\n",
              "      <td>488189.000000</td>\n",
              "      <td>488189.000000</td>\n",
              "      <td>488040.000000</td>\n",
              "      <td>481165.000000</td>\n",
              "      <td>488189.000000</td>\n",
              "      <td>488189.000000</td>\n",
              "    </tr>\n",
              "    <tr>\n",
              "      <th>mean</th>\n",
              "      <td>7.720801</td>\n",
              "      <td>1.123952</td>\n",
              "      <td>1.902587</td>\n",
              "      <td>2.207459</td>\n",
              "      <td>3.275522</td>\n",
              "      <td>0.362573</td>\n",
              "      <td>209.955489</td>\n",
              "      <td>1.773303</td>\n",
              "      <td>2.194687</td>\n",
              "      <td>2.889850</td>\n",
              "      <td>3.735949</td>\n",
              "      <td>2.676035</td>\n",
              "      <td>7.258755</td>\n",
              "      <td>4.759472</td>\n",
              "      <td>3.191893</td>\n",
              "    </tr>\n",
              "    <tr>\n",
              "      <th>std</th>\n",
              "      <td>1.090109</td>\n",
              "      <td>0.329527</td>\n",
              "      <td>0.915112</td>\n",
              "      <td>0.821989</td>\n",
              "      <td>1.764458</td>\n",
              "      <td>0.758078</td>\n",
              "      <td>864.891408</td>\n",
              "      <td>0.751550</td>\n",
              "      <td>1.549417</td>\n",
              "      <td>0.804194</td>\n",
              "      <td>2.480057</td>\n",
              "      <td>0.884669</td>\n",
              "      <td>4.717773</td>\n",
              "      <td>3.103048</td>\n",
              "      <td>1.166638</td>\n",
              "    </tr>\n",
              "    <tr>\n",
              "      <th>min</th>\n",
              "      <td>1.600397</td>\n",
              "      <td>1.000000</td>\n",
              "      <td>1.000000</td>\n",
              "      <td>1.000000</td>\n",
              "      <td>0.000000</td>\n",
              "      <td>0.000000</td>\n",
              "      <td>45.000000</td>\n",
              "      <td>1.000000</td>\n",
              "      <td>0.000000</td>\n",
              "      <td>1.000000</td>\n",
              "      <td>-45.000000</td>\n",
              "      <td>1.000000</td>\n",
              "      <td>1.000000</td>\n",
              "      <td>1.000000</td>\n",
              "      <td>0.000000</td>\n",
              "    </tr>\n",
              "    <tr>\n",
              "      <th>25%</th>\n",
              "      <td>7.187260</td>\n",
              "      <td>1.000000</td>\n",
              "      <td>1.000000</td>\n",
              "      <td>2.000000</td>\n",
              "      <td>2.000000</td>\n",
              "      <td>0.000000</td>\n",
              "      <td>45.000000</td>\n",
              "      <td>1.000000</td>\n",
              "      <td>1.000000</td>\n",
              "      <td>2.000000</td>\n",
              "      <td>2.000000</td>\n",
              "      <td>2.000000</td>\n",
              "      <td>4.000000</td>\n",
              "      <td>2.000000</td>\n",
              "      <td>2.000000</td>\n",
              "    </tr>\n",
              "    <tr>\n",
              "      <th>50%</th>\n",
              "      <td>7.860814</td>\n",
              "      <td>1.000000</td>\n",
              "      <td>2.000000</td>\n",
              "      <td>2.000000</td>\n",
              "      <td>3.000000</td>\n",
              "      <td>0.000000</td>\n",
              "      <td>45.000000</td>\n",
              "      <td>2.000000</td>\n",
              "      <td>2.000000</td>\n",
              "      <td>3.000000</td>\n",
              "      <td>3.000000</td>\n",
              "      <td>3.000000</td>\n",
              "      <td>8.000000</td>\n",
              "      <td>5.000000</td>\n",
              "      <td>3.000000</td>\n",
              "    </tr>\n",
              "    <tr>\n",
              "      <th>75%</th>\n",
              "      <td>8.419144</td>\n",
              "      <td>1.000000</td>\n",
              "      <td>3.000000</td>\n",
              "      <td>3.000000</td>\n",
              "      <td>4.000000</td>\n",
              "      <td>0.000000</td>\n",
              "      <td>45.000000</td>\n",
              "      <td>2.000000</td>\n",
              "      <td>3.000000</td>\n",
              "      <td>3.000000</td>\n",
              "      <td>4.000000</td>\n",
              "      <td>3.000000</td>\n",
              "      <td>8.000000</td>\n",
              "      <td>7.000000</td>\n",
              "      <td>4.000000</td>\n",
              "    </tr>\n",
              "    <tr>\n",
              "      <th>max</th>\n",
              "      <td>10.816652</td>\n",
              "      <td>2.000000</td>\n",
              "      <td>3.000000</td>\n",
              "      <td>7.000000</td>\n",
              "      <td>32.000000</td>\n",
              "      <td>13.000000</td>\n",
              "      <td>4995.000000</td>\n",
              "      <td>3.000000</td>\n",
              "      <td>7.000000</td>\n",
              "      <td>6.000000</td>\n",
              "      <td>80.000000</td>\n",
              "      <td>4.000000</td>\n",
              "      <td>38.000000</td>\n",
              "      <td>13.000000</td>\n",
              "      <td>24.000000</td>\n",
              "    </tr>\n",
              "  </tbody>\n",
              "</table>\n",
              "</div>"
            ],
            "text/plain": [
              "       amount_spent_per_room_night_scaled  booking_type_code   channel_code  \\\n",
              "count                       341424.000000      488189.000000  488189.000000   \n",
              "mean                             7.720801           1.123952       1.902587   \n",
              "std                              1.090109           0.329527       0.915112   \n",
              "min                              1.600397           1.000000       1.000000   \n",
              "25%                              7.187260           1.000000       1.000000   \n",
              "50%                              7.860814           1.000000       2.000000   \n",
              "75%                              8.419144           1.000000       3.000000   \n",
              "max                             10.816652           2.000000       3.000000   \n",
              "\n",
              "       main_product_code  numberofadults  numberofchildren  \\\n",
              "count      488189.000000   488189.000000     488189.000000   \n",
              "mean            2.207459        3.275522          0.362573   \n",
              "std             0.821989        1.764458          0.758078   \n",
              "min             1.000000        0.000000          0.000000   \n",
              "25%             2.000000        2.000000          0.000000   \n",
              "50%             2.000000        3.000000          0.000000   \n",
              "75%             3.000000        4.000000          0.000000   \n",
              "max             7.000000       32.000000         13.000000   \n",
              "\n",
              "       persontravellingid  resort_region_code  resort_type_code  \\\n",
              "count       488189.000000       488189.000000     488189.000000   \n",
              "mean           209.955489            1.773303          2.194687   \n",
              "std            864.891408            0.751550          1.549417   \n",
              "min             45.000000            1.000000          0.000000   \n",
              "25%             45.000000            1.000000          1.000000   \n",
              "50%             45.000000            2.000000          2.000000   \n",
              "75%             45.000000            2.000000          3.000000   \n",
              "max           4995.000000            3.000000          7.000000   \n",
              "\n",
              "       room_type_booked_code     roomnights  season_holidayed_code  \\\n",
              "count          488189.000000  488189.000000          488040.000000   \n",
              "mean                2.889850       3.735949               2.676035   \n",
              "std                 0.804194       2.480057               0.884669   \n",
              "min                 1.000000     -45.000000               1.000000   \n",
              "25%                 2.000000       2.000000               2.000000   \n",
              "50%                 3.000000       3.000000               3.000000   \n",
              "75%                 3.000000       4.000000               3.000000   \n",
              "max                 6.000000      80.000000               4.000000   \n",
              "\n",
              "       state_code_residence  state_code_resort      total_pax  \n",
              "count         481165.000000      488189.000000  488189.000000  \n",
              "mean               7.258755           4.759472       3.191893  \n",
              "std                4.717773           3.103048       1.166638  \n",
              "min                1.000000           1.000000       0.000000  \n",
              "25%                4.000000           2.000000       2.000000  \n",
              "50%                8.000000           5.000000       3.000000  \n",
              "75%                8.000000           7.000000       4.000000  \n",
              "max               38.000000          13.000000      24.000000  "
            ]
          },
          "metadata": {
            "tags": []
          },
          "execution_count": 9
        }
      ]
    },
    {
      "cell_type": "code",
      "metadata": {
        "id": "2MqCIKmVgonc",
        "colab_type": "code",
        "colab": {
          "base_uri": "https://localhost:8080/",
          "height": 253
        },
        "outputId": "1082bc2c-cdd5-4ca2-b536-00ae6baf121f"
      },
      "source": [
        "df.head()\n"
      ],
      "execution_count": 10,
      "outputs": [
        {
          "output_type": "execute_result",
          "data": {
            "text/html": [
              "<div>\n",
              "<style scoped>\n",
              "    .dataframe tbody tr th:only-of-type {\n",
              "        vertical-align: middle;\n",
              "    }\n",
              "\n",
              "    .dataframe tbody tr th {\n",
              "        vertical-align: top;\n",
              "    }\n",
              "\n",
              "    .dataframe thead th {\n",
              "        text-align: right;\n",
              "    }\n",
              "</style>\n",
              "<table border=\"1\" class=\"dataframe\">\n",
              "  <thead>\n",
              "    <tr style=\"text-align: right;\">\n",
              "      <th></th>\n",
              "      <th>amount_spent_per_room_night_scaled</th>\n",
              "      <th>booking_date</th>\n",
              "      <th>booking_type_code</th>\n",
              "      <th>channel_code</th>\n",
              "      <th>checkin_date</th>\n",
              "      <th>checkout_date</th>\n",
              "      <th>cluster_code</th>\n",
              "      <th>main_product_code</th>\n",
              "      <th>member_age_buckets</th>\n",
              "      <th>memberid</th>\n",
              "      <th>...</th>\n",
              "      <th>reservationstatusid_code</th>\n",
              "      <th>resort_id</th>\n",
              "      <th>resort_region_code</th>\n",
              "      <th>resort_type_code</th>\n",
              "      <th>room_type_booked_code</th>\n",
              "      <th>roomnights</th>\n",
              "      <th>season_holidayed_code</th>\n",
              "      <th>state_code_residence</th>\n",
              "      <th>state_code_resort</th>\n",
              "      <th>total_pax</th>\n",
              "    </tr>\n",
              "  </thead>\n",
              "  <tbody>\n",
              "    <tr>\n",
              "      <th>0</th>\n",
              "      <td>7.416598</td>\n",
              "      <td>13/05/18</td>\n",
              "      <td>1</td>\n",
              "      <td>2</td>\n",
              "      <td>19/06/18</td>\n",
              "      <td>21/06/18</td>\n",
              "      <td>D</td>\n",
              "      <td>2</td>\n",
              "      <td>F</td>\n",
              "      <td>3df0253a624a2947ead6a28ef7e0914a492213ed35ca65...</td>\n",
              "      <td>...</td>\n",
              "      <td>A</td>\n",
              "      <td>98a3ab7c340e8a033e7b37b6ef9428751581760af67bba...</td>\n",
              "      <td>2</td>\n",
              "      <td>2</td>\n",
              "      <td>4</td>\n",
              "      <td>2</td>\n",
              "      <td>3.0</td>\n",
              "      <td>8.0</td>\n",
              "      <td>2</td>\n",
              "      <td>2</td>\n",
              "    </tr>\n",
              "    <tr>\n",
              "      <th>1</th>\n",
              "      <td>7.313122</td>\n",
              "      <td>11/06/16</td>\n",
              "      <td>1</td>\n",
              "      <td>3</td>\n",
              "      <td>25/09/16</td>\n",
              "      <td>30/09/16</td>\n",
              "      <td>E</td>\n",
              "      <td>2</td>\n",
              "      <td>H</td>\n",
              "      <td>22595b0b80248eb6d8d0e366761ba139a1cc72c3116aa8...</td>\n",
              "      <td>...</td>\n",
              "      <td>A</td>\n",
              "      <td>81b8a03f97e8787c53fe1a86bda042b6f0de9b0ec9c093...</td>\n",
              "      <td>1</td>\n",
              "      <td>5</td>\n",
              "      <td>3</td>\n",
              "      <td>10</td>\n",
              "      <td>4.0</td>\n",
              "      <td>1.0</td>\n",
              "      <td>1</td>\n",
              "      <td>2</td>\n",
              "    </tr>\n",
              "    <tr>\n",
              "      <th>2</th>\n",
              "      <td>8.312950</td>\n",
              "      <td>02/09/17</td>\n",
              "      <td>1</td>\n",
              "      <td>2</td>\n",
              "      <td>25/12/17</td>\n",
              "      <td>26/12/17</td>\n",
              "      <td>B</td>\n",
              "      <td>2</td>\n",
              "      <td>B</td>\n",
              "      <td>b828358a65ab24e02bd34f1c62600311ffb6c8e45115fd...</td>\n",
              "      <td>...</td>\n",
              "      <td>A</td>\n",
              "      <td>0b918943df0962bc7a1824c0555a389347b4febdc7cf9d...</td>\n",
              "      <td>2</td>\n",
              "      <td>4</td>\n",
              "      <td>4</td>\n",
              "      <td>2</td>\n",
              "      <td>2.0</td>\n",
              "      <td>8.0</td>\n",
              "      <td>10</td>\n",
              "      <td>3</td>\n",
              "    </tr>\n",
              "    <tr>\n",
              "      <th>3</th>\n",
              "      <td>8.064067</td>\n",
              "      <td>12/04/16</td>\n",
              "      <td>1</td>\n",
              "      <td>1</td>\n",
              "      <td>19/07/16</td>\n",
              "      <td>22/07/16</td>\n",
              "      <td>F</td>\n",
              "      <td>4</td>\n",
              "      <td>E</td>\n",
              "      <td>8841d6ba17df8ecbf9aedd2394b8673ecdc3ea318abc4f...</td>\n",
              "      <td>...</td>\n",
              "      <td>C</td>\n",
              "      <td>b17ef6d19c7a5b1ee83b907c595526dcb1eb06db8227d6...</td>\n",
              "      <td>1</td>\n",
              "      <td>1</td>\n",
              "      <td>3</td>\n",
              "      <td>3</td>\n",
              "      <td>4.0</td>\n",
              "      <td>8.0</td>\n",
              "      <td>6</td>\n",
              "      <td>4</td>\n",
              "    </tr>\n",
              "    <tr>\n",
              "      <th>4</th>\n",
              "      <td>9.181961</td>\n",
              "      <td>02/12/16</td>\n",
              "      <td>1</td>\n",
              "      <td>1</td>\n",
              "      <td>18/03/17</td>\n",
              "      <td>20/03/17</td>\n",
              "      <td>F</td>\n",
              "      <td>1</td>\n",
              "      <td>E</td>\n",
              "      <td>04c2c5678714c951a3ba79d333dfe1577d657a9285b522...</td>\n",
              "      <td>...</td>\n",
              "      <td>A</td>\n",
              "      <td>49d180ecf56132819571bf39d9b7b342522a2ac6d23c14...</td>\n",
              "      <td>1</td>\n",
              "      <td>1</td>\n",
              "      <td>2</td>\n",
              "      <td>6</td>\n",
              "      <td>3.0</td>\n",
              "      <td>7.0</td>\n",
              "      <td>6</td>\n",
              "      <td>5</td>\n",
              "    </tr>\n",
              "  </tbody>\n",
              "</table>\n",
              "<p>5 rows × 24 columns</p>\n",
              "</div>"
            ],
            "text/plain": [
              "   amount_spent_per_room_night_scaled booking_date  booking_type_code  \\\n",
              "0                            7.416598     13/05/18                  1   \n",
              "1                            7.313122     11/06/16                  1   \n",
              "2                            8.312950     02/09/17                  1   \n",
              "3                            8.064067     12/04/16                  1   \n",
              "4                            9.181961     02/12/16                  1   \n",
              "\n",
              "   channel_code checkin_date checkout_date cluster_code  main_product_code  \\\n",
              "0             2     19/06/18      21/06/18            D                  2   \n",
              "1             3     25/09/16      30/09/16            E                  2   \n",
              "2             2     25/12/17      26/12/17            B                  2   \n",
              "3             1     19/07/16      22/07/16            F                  4   \n",
              "4             1     18/03/17      20/03/17            F                  1   \n",
              "\n",
              "  member_age_buckets                                           memberid  ...  \\\n",
              "0                  F  3df0253a624a2947ead6a28ef7e0914a492213ed35ca65...  ...   \n",
              "1                  H  22595b0b80248eb6d8d0e366761ba139a1cc72c3116aa8...  ...   \n",
              "2                  B  b828358a65ab24e02bd34f1c62600311ffb6c8e45115fd...  ...   \n",
              "3                  E  8841d6ba17df8ecbf9aedd2394b8673ecdc3ea318abc4f...  ...   \n",
              "4                  E  04c2c5678714c951a3ba79d333dfe1577d657a9285b522...  ...   \n",
              "\n",
              "   reservationstatusid_code  \\\n",
              "0                         A   \n",
              "1                         A   \n",
              "2                         A   \n",
              "3                         C   \n",
              "4                         A   \n",
              "\n",
              "                                           resort_id  resort_region_code  \\\n",
              "0  98a3ab7c340e8a033e7b37b6ef9428751581760af67bba...                   2   \n",
              "1  81b8a03f97e8787c53fe1a86bda042b6f0de9b0ec9c093...                   1   \n",
              "2  0b918943df0962bc7a1824c0555a389347b4febdc7cf9d...                   2   \n",
              "3  b17ef6d19c7a5b1ee83b907c595526dcb1eb06db8227d6...                   1   \n",
              "4  49d180ecf56132819571bf39d9b7b342522a2ac6d23c14...                   1   \n",
              "\n",
              "  resort_type_code room_type_booked_code roomnights  season_holidayed_code  \\\n",
              "0                2                     4          2                    3.0   \n",
              "1                5                     3         10                    4.0   \n",
              "2                4                     4          2                    2.0   \n",
              "3                1                     3          3                    4.0   \n",
              "4                1                     2          6                    3.0   \n",
              "\n",
              "   state_code_residence  state_code_resort  total_pax  \n",
              "0                   8.0                  2          2  \n",
              "1                   1.0                  1          2  \n",
              "2                   8.0                 10          3  \n",
              "3                   8.0                  6          4  \n",
              "4                   7.0                  6          5  \n",
              "\n",
              "[5 rows x 24 columns]"
            ]
          },
          "metadata": {
            "tags": []
          },
          "execution_count": 10
        }
      ]
    },
    {
      "cell_type": "code",
      "metadata": {
        "id": "kwIyI-ZvkL66",
        "colab_type": "code",
        "colab": {
          "base_uri": "https://localhost:8080/",
          "height": 34
        },
        "outputId": "c81a76da-a86f-4970-9e64-484e1253f2f5"
      },
      "source": [
        "  df[\"channel_code\"].unique()"
      ],
      "execution_count": 11,
      "outputs": [
        {
          "output_type": "execute_result",
          "data": {
            "text/plain": [
              "array([2, 3, 1])"
            ]
          },
          "metadata": {
            "tags": []
          },
          "execution_count": 11
        }
      ]
    },
    {
      "cell_type": "code",
      "metadata": {
        "id": "qvpHN-lLlauf",
        "colab_type": "code",
        "colab": {
          "base_uri": "https://localhost:8080/",
          "height": 136
        },
        "outputId": "ccc07a1a-6b45-4fda-b2c2-702b6a3d8026"
      },
      "source": [
        "\n",
        "print(df[\"reservationstatusid_code\"].unique())\n",
        "print(df[\"persontravellingid\"].unique())\n",
        "print(df[\"state_code_resort\"].unique())\n",
        "print(df[\"member_age_buckets\"].unique())\n",
        "print(df[\"booking_type_code\"].unique())\n",
        "print(df[\"channel_code\"].unique())\n",
        "print(df[\"main_product_code\"].unique())"
      ],
      "execution_count": 12,
      "outputs": [
        {
          "output_type": "stream",
          "text": [
            "['A' 'C' 'B' 'D']\n",
            "[  45   46   47 4752 4753 4995]\n",
            "[ 2  1 10  6  5  7  3  9 11  4 13]\n",
            "['F' 'H' 'B' 'E' 'D' 'G' 'C' 'J' 'I' 'A']\n",
            "[1 2]\n",
            "[2 3 1]\n",
            "[2 4 1 3 7]\n"
          ],
          "name": "stdout"
        }
      ]
    },
    {
      "cell_type": "markdown",
      "metadata": {
        "id": "O4LbZFcRmhxQ",
        "colab_type": "text"
      },
      "source": [
        "cluster code = 6 unique   ['F', 'E', 'D', 'B', 'A', 'C']\n",
        "\n",
        "```\n",
        "# This is formatted as code\n",
        "```\n",
        "reservationstatusid_code = 4 unique values ['C', 'A', 'B', 'D']\n",
        "\n",
        "booking_type_code = 2 unique values [1, 2]\n",
        "\n",
        "member_age_buckets\t= 10 unique values ['F', 'H', 'D', 'E', 'I', 'G', 'C', 'B', 'A', 'J']\n",
        "\n",
        "state_code_resort = 11 unique  values [ 3,  5,  1,  2,  6,  9, 10,  4, 11,  7, 13]\n",
        "\n",
        "persontravellingid = 6 unique values [  46,   47,   45, 4752, 4753, 4995]\n",
        "\n",
        "main_product_code = 5 unique values [1, 2, 3, 4, 7]\n",
        "\n",
        "channel_code = 3 unique values [3, 1, 2]\n",
        "\n",
        "Find/Derive -----\n",
        "\n",
        "Total number of days the person has stayed\n",
        "\n",
        "The month in which booking is made\n",
        "\n",
        "Check if the booking and check in date is same\n",
        "\n",
        "Check the difference between the check out and booking date\n"
      ]
    },
    {
      "cell_type": "code",
      "metadata": {
        "id": "YPVXAdz2oohw",
        "colab_type": "code",
        "colab": {
          "base_uri": "https://localhost:8080/",
          "height": 34
        },
        "outputId": "53ac9ef9-1220-4057-d9a9-5467955b1979"
      },
      "source": [
        "pd.to_datetime(df[\"booking_date\"][0]).month\n",
        "from datetime import datetime\n",
        "d = datetime.strptime(df[\"checkin_date\"][1], '%d/%m/%y')\n",
        "print((d.date()))"
      ],
      "execution_count": 13,
      "outputs": [
        {
          "output_type": "stream",
          "text": [
            "2016-09-25\n"
          ],
          "name": "stdout"
        }
      ]
    },
    {
      "cell_type": "code",
      "metadata": {
        "id": "QMfvnVkMFnKJ",
        "colab_type": "code",
        "colab": {}
      },
      "source": [
        "df.loc[:,\"new_checkin\"] = df[\"checkin_date\"].apply(lambda x :datetime.strptime(x, '%d/%m/%y').date().strftime('%Y-%m-%d'))\n",
        "df.loc[:,\"new_checkout\"] = df[\"checkout_date\"].apply(lambda x :datetime.strptime(x, '%d/%m/%y').date().strftime('%Y-%m-%d'))\n",
        "df.loc[:,\"new_booking\"] = df[\"booking_date\"].apply(lambda x :datetime.strptime(x, '%d/%m/%y').date().strftime('%Y-%m-%d'))"
      ],
      "execution_count": 0,
      "outputs": []
    },
    {
      "cell_type": "code",
      "metadata": {
        "id": "PW15uZh_y0qN",
        "colab_type": "code",
        "colab": {}
      },
      "source": [
        "df.loc[:,\"booking_month\"] = df[\"new_booking\"].apply(lambda x: pd.to_datetime(x,format=\"%Y-%m-%d\").month)\n",
        "df.head(20)"
      ],
      "execution_count": 0,
      "outputs": []
    },
    {
      "cell_type": "code",
      "metadata": {
        "id": "0h86A_Jp0RfX",
        "colab_type": "code",
        "colab": {}
      },
      "source": [
        "df.loc[:,\"checkin_month\"] = df[\"new_checkin\"].apply(lambda x : pd.to_datetime(x,format=\"%Y-%m-%d\").month)"
      ],
      "execution_count": 0,
      "outputs": []
    },
    {
      "cell_type": "code",
      "metadata": {
        "id": "EJxUfOJE0uc9",
        "colab_type": "code",
        "colab": {}
      },
      "source": [
        "df.loc[:,\"checkin_bookin\"] = pd.to_datetime(df[\"new_checkin\"],format=\"%Y-%m-%d\") - pd.to_datetime(df[\"new_booking\"],format=\"%Y-%m-%d\")\n",
        "df[\"checkin_bookin\"] = df[\"checkin_bookin\"].dt.days"
      ],
      "execution_count": 0,
      "outputs": []
    },
    {
      "cell_type": "code",
      "metadata": {
        "id": "4C0yeW0N1LQG",
        "colab_type": "code",
        "colab": {}
      },
      "source": [
        "\n",
        "df.loc[:,\"same_day\"] = df[\"checkin_bookin\"].apply(lambda x : 1 if x != 0 else 0)"
      ],
      "execution_count": 0,
      "outputs": []
    },
    {
      "cell_type": "code",
      "metadata": {
        "id": "EfYPw_XN1gcD",
        "colab_type": "code",
        "colab": {}
      },
      "source": [
        "df.loc[:,\"days_staying\"] = pd.to_datetime(df[\"new_checkout\"],format=\"%Y-%m-%d\") - pd.to_datetime(df[\"new_checkin\"],format=\"%Y-%m-%d\")\n",
        "df[\"days_staying\"] = df[\"days_staying\"].dt.days"
      ],
      "execution_count": 0,
      "outputs": []
    },
    {
      "cell_type": "code",
      "metadata": {
        "id": "xdE0XmYm1m8x",
        "colab_type": "code",
        "colab": {}
      },
      "source": [
        "df.head()"
      ],
      "execution_count": 0,
      "outputs": []
    },
    {
      "cell_type": "code",
      "metadata": {
        "id": "-M0JCGE99xG0",
        "colab_type": "code",
        "colab": {}
      },
      "source": [
        "redundant_cols = [\"booking_date\",\"checkin_date\",\"checkout_date\",\"new_booking\",\"new_checkin\",\"new_checkout\"] "
      ],
      "execution_count": 0,
      "outputs": []
    },
    {
      "cell_type": "code",
      "metadata": {
        "colab_type": "code",
        "id": "Vys6mqM8HdQu",
        "colab": {}
      },
      "source": [
        "df.drop(redundant_cols,inplace=True,axis=1)\n",
        "df.to_csv(\"date_pre.csv\",index=False)"
      ],
      "execution_count": 0,
      "outputs": []
    },
    {
      "cell_type": "code",
      "metadata": {
        "colab_type": "code",
        "id": "dqSXGGGtHcWC",
        "colab": {}
      },
      "source": [
        "df.info()\n",
        "r_id = df[\"reservation_id\"]\n",
        "df.drop([\"reservation_id\",\"memberid\"],inplace=True,axis=1)"
      ],
      "execution_count": 0,
      "outputs": []
    },
    {
      "cell_type": "code",
      "metadata": {
        "id": "yQpUGlhZFlz-",
        "colab_type": "code",
        "colab": {}
      },
      "source": [
        "df.drop(\"resort_id\",inplace=True,axis=1)\n",
        "df.info()"
      ],
      "execution_count": 0,
      "outputs": []
    },
    {
      "cell_type": "code",
      "metadata": {
        "id": "V1EQMxJmltIu",
        "colab_type": "code",
        "colab": {}
      },
      "source": [
        "df[\"season_holidayed_code\"].fillna(df[\"season_holidayed_code\"].mean(),inplace=True)\n"
      ],
      "execution_count": 0,
      "outputs": []
    },
    {
      "cell_type": "code",
      "metadata": {
        "id": "lCsepN2Inzd-",
        "colab_type": "code",
        "colab": {}
      },
      "source": [
        "df[\"state_code_residence\"].fillna(df[\"state_code_residence\"].mean(),inplace=True)\n",
        "df[\"persontravellingid\"] = df[\"persontravellingid\"].astype(\"object\",inplace=True)"
      ],
      "execution_count": 0,
      "outputs": []
    },
    {
      "cell_type": "code",
      "metadata": {
        "id": "PEeUzXcToFWd",
        "colab_type": "code",
        "colab": {}
      },
      "source": [
        "df_dumm = pd.get_dummies(df)\n",
        "columns = list(df.columns)\n",
        "df_dumm.info()"
      ],
      "execution_count": 0,
      "outputs": []
    },
    {
      "cell_type": "code",
      "metadata": {
        "id": "r-wL27lz9Pl3",
        "colab_type": "code",
        "colab": {}
      },
      "source": [
        "df_dumm.head()"
      ],
      "execution_count": 0,
      "outputs": []
    },
    {
      "cell_type": "code",
      "metadata": {
        "id": "o7Y5monVGBQM",
        "colab_type": "code",
        "colab": {}
      },
      "source": [
        "y = df_dumm[\"amount_spent_per_room_night_scaled\"].values\n",
        "X = df_dumm.drop(\"amount_spent_per_room_night_scaled\",axis=1).values\n",
        "X_train, X_test  =  X[:len(df_train)], X[len(df_train):]\n",
        "y_train, y_test  =  y[:len(df_train)], y[len(df_train):]"
      ],
      "execution_count": 0,
      "outputs": []
    },
    {
      "cell_type": "code",
      "metadata": {
        "id": "sRLRUi8Xlc_V",
        "colab_type": "code",
        "colab": {}
      },
      "source": [
        "for i in columns:\n",
        "  sns.distplot(df[\"total_pax\"],kde=False)"
      ],
      "execution_count": 0,
      "outputs": []
    },
    {
      "cell_type": "code",
      "metadata": {
        "id": "2v9R053clKUx",
        "colab_type": "code",
        "colab": {}
      },
      "source": [
        "import numpy as np\n",
        "def out_detect(data):\n",
        "\tout_dict = {}\n",
        "\tfor i in data.describe().columns:\n",
        "\t\tltv=0\n",
        "\t\tutv=0\n",
        "\t\tq1 = data.describe().at['25%',i]\n",
        "\t\tq3 = data.describe().at['75%',i]\n",
        "\t\tiqr = q3-q1\n",
        "\t\tltv = q1-1.5*iqr\n",
        "\t\tutv = q3 +1.5*iqr\n",
        "\t\tprint(q1,q3)\n",
        "\t\tprint(ltv,utv)\n",
        "\t\tx = np.array(data[i])\n",
        "\t\tp=[]\n",
        "\t\tcount = 0 \n",
        "\t\tfor j in x:\n",
        "\t\t\t\tif j>utv or j<ltv:\n",
        "\t\t\t\t\tcount= count+1\n",
        "\t\t\t\t\tp.append(round(data[i].median(),2))\n",
        "\n",
        "\t\t\t\telse:\n",
        "\t\t\t\t\tp.append(j)\n",
        "\t\tout_dict[i] = str(count)\n",
        "\t\tdata[i] = p \n",
        "\t\tprint(\"for columns {} count is {}\".format(i,count))\n",
        "\tprint(out_dict)\n",
        "\treturn(data)"
      ],
      "execution_count": 0,
      "outputs": []
    },
    {
      "cell_type": "code",
      "metadata": {
        "id": "qC1_QIaSlSN9",
        "colab_type": "code",
        "colab": {}
      },
      "source": [
        "def corr_remove(data):\n",
        "\tcol_corr=set()\n",
        "\tcorr_matrix = data.corr()\n",
        "\tfor i in range(len(corr_matrix.columns)):\n",
        "\t\tfor j in range(i):\n",
        "\t\t\tif abs(corr_matrix.iloc[i, j])>threshold:\n",
        "\t\t\t\tcolname = corr_matrix.columns[i]\n",
        "\t\t\t\tcol_corr.add(colname)\n",
        "\treturn(col_corr)"
      ],
      "execution_count": 0,
      "outputs": []
    },
    {
      "cell_type": "code",
      "metadata": {
        "id": "qinpeWghFC-O",
        "colab_type": "code",
        "colab": {}
      },
      "source": [
        "!pip install catboost -U"
      ],
      "execution_count": 0,
      "outputs": []
    },
    {
      "cell_type": "code",
      "metadata": {
        "id": "5alg6AZyK2WU",
        "colab_type": "code",
        "colab": {}
      },
      "source": [
        "y_test"
      ],
      "execution_count": 0,
      "outputs": []
    },
    {
      "cell_type": "code",
      "metadata": {
        "id": "_opiRDFhIUic",
        "colab_type": "code",
        "colab": {}
      },
      "source": [
        "# from catboost import CatBoostRegressor, CatBoostClassifier\n",
        "\n",
        "\n",
        "# classifier = CatBoostRegressor(iterations = 10000,\n",
        "#                                 eval_metric='RMSE',\n",
        "#                                 loss_function= 'RMSE',\n",
        "#                                 cat_features=[3, 4, 5, 6, 8, 9, 10, 11, 12, 13, 14,20,24,28,30,34,37,39],\n",
        "#                                 #learning_rate=0.003,\n",
        "#                                 #depth=7\n",
        "#                                 )\n",
        "\n",
        "# classifier.fit(X_train, y_train)"
      ],
      "execution_count": 0,
      "outputs": []
    },
    {
      "cell_type": "code",
      "metadata": {
        "id": "qa2WYcaTlj05",
        "colab_type": "code",
        "colab": {}
      },
      "source": [
        "from sklearn.model_selection import cross_val_predict, GridSearchCV\n",
        "from sklearn.ensemble import RandomForestRegressor\n",
        "from sklearn.preprocessing import MinMaxScaler\n",
        "\n",
        "gsc = GridSearchCV(\n",
        "        estimator=RandomForestRegressor(),\n",
        "        param_grid={\n",
        "            'max_depth': (3,7),\n",
        "            'n_estimators': (80 ,100),\n",
        "        },\n",
        "        cv=5, scoring='neg_mean_squared_error', verbose=30,n_jobs=-1)"
      ],
      "execution_count": 0,
      "outputs": []
    },
    {
      "cell_type": "code",
      "metadata": {
        "id": "GEzPVgiXmdqJ",
        "colab_type": "code",
        "colab": {}
      },
      "source": [
        ""
      ],
      "execution_count": 0,
      "outputs": []
    },
    {
      "cell_type": "code",
      "metadata": {
        "id": "jCJQc_QAt1T-",
        "colab_type": "code",
        "colab": {}
      },
      "source": [
        "# y = df_dumm[\"amount_spent_per_room_night_scaled\"]\n",
        "# X_df = df_dumm.drop(\"amount_spent_per_room_night_scaled\",axis=1)\n",
        "# X_df.columns"
      ],
      "execution_count": 0,
      "outputs": []
    },
    {
      "cell_type": "code",
      "metadata": {
        "id": "6jsAdXk9uZG7",
        "colab_type": "code",
        "colab": {}
      },
      "source": [
        "grid_result = gsc.fit(X_train, y_train)\n",
        "best_params = grid_result.best_params_"
      ],
      "execution_count": 0,
      "outputs": []
    },
    {
      "cell_type": "code",
      "metadata": {
        "id": "GkkmYXvNumRs",
        "colab_type": "code",
        "colab": {}
      },
      "source": [
        "from sklearn.model_selection import cross_val_score\n",
        "rfr = RandomForestRegressor(max_depth=best_params[\"max_depth\"], n_estimators=best_params[\"n_estimators\"],random_state=False, verbose=10)\n",
        "\n",
        "scores = cross_val_score(rfr, X_train, y_train, cv=10, scoring='neg_mean_absolute_error')\n",
        "print(scores)"
      ],
      "execution_count": 0,
      "outputs": []
    },
    {
      "cell_type": "code",
      "metadata": {
        "id": "EZPJIMqY1imx",
        "colab_type": "code",
        "colab": {}
      },
      "source": [
        "from sklearn.externals import joblib\n",
        "rfr = RandomForestRegressor(max_depth=best_params[\"max_depth\"], n_estimators=best_params[\"n_estimators\"],random_state=101, verbose=10)\n",
        "rfr.fit(X_train,y_train)\n",
        "joblib.dump(rfr,\"rfr.pkl\")"
      ],
      "execution_count": 0,
      "outputs": []
    },
    {
      "cell_type": "code",
      "metadata": {
        "id": "ZOSk1s5VJW3M",
        "colab_type": "code",
        "colab": {}
      },
      "source": [
        "from google.colab import files\n",
        "files.download('rfr.pkl') "
      ],
      "execution_count": 0,
      "outputs": []
    },
    {
      "cell_type": "code",
      "metadata": {
        "id": "z6mS7jCodgp0",
        "colab_type": "code",
        "colab": {}
      },
      "source": [
        "from sklearn.externals import joblib\n",
        "rfr = joblib.load(\"rfr.pkl\")\n",
        "rfr_predict = rfr.predict(X_test)"
      ],
      "execution_count": 0,
      "outputs": []
    },
    {
      "cell_type": "code",
      "metadata": {
        "id": "Bp2ZP4rZUrFI",
        "colab_type": "code",
        "colab": {}
      },
      "source": [
        "final = pd.DataFrame()\n",
        "r_id = df_test[\"reservation_id\"]\n",
        "final.loc[:,\"reservation_id\"]=r_id\n",
        "final.loc[:,\"amount_spent_per_room_night_scaled\"]=rfr_predict"
      ],
      "execution_count": 0,
      "outputs": []
    },
    {
      "cell_type": "code",
      "metadata": {
        "id": "GLGvc-j1VkhD",
        "colab_type": "code",
        "colab": {}
      },
      "source": [
        "final.to_csv(\"result.csv\",index=False)"
      ],
      "execution_count": 0,
      "outputs": []
    },
    {
      "cell_type": "code",
      "metadata": {
        "id": "FGJX3L_FVqYy",
        "colab_type": "code",
        "colab": {}
      },
      "source": [
        "files.download(\"result.csv\")"
      ],
      "execution_count": 0,
      "outputs": []
    },
    {
      "cell_type": "code",
      "metadata": {
        "id": "P1WSld_bVvwm",
        "colab_type": "code",
        "colab": {}
      },
      "source": [
        ""
      ],
      "execution_count": 0,
      "outputs": []
    }
  ]
}