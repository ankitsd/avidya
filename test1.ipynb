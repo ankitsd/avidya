{
  "nbformat": 4,
  "nbformat_minor": 0,
  "metadata": {
    "colab": {
      "name": "Untitled4.ipynb",
      "version": "0.3.2",
      "provenance": [],
      "collapsed_sections": [],
      "include_colab_link": true
    },
    "kernelspec": {
      "name": "python3",
      "display_name": "Python 3"
    }
  },
  "cells": [
    {
      "cell_type": "markdown",
      "metadata": {
        "id": "view-in-github",
        "colab_type": "text"
      },
      "source": [
        "<a href=\"https://colab.research.google.com/github/ankitsd/avidya/blob/master/test1.ipynb\" target=\"_parent\"><img src=\"https://colab.research.google.com/assets/colab-badge.svg\" alt=\"Open In Colab\"/></a>"
      ]
    },
    {
      "cell_type": "code",
      "metadata": {
        "id": "FCrQb3EBB7mO",
        "colab_type": "code",
        "outputId": "aeca9d2d-a0e8-4d64-ff2d-504b3b63f90b",
        "colab": {
          "base_uri": "https://localhost:8080/",
          "height": 204
        }
      },
      "source": [
        "!wget https://datahack-prod.s3.amazonaws.com/test_file/test_Jwt0MQH.zip"
      ],
      "execution_count": 0,
      "outputs": [
        {
          "output_type": "stream",
          "text": [
            "--2019-05-04 11:02:09--  https://datahack-prod.s3.amazonaws.com/test_file/test_Jwt0MQH.zip\n",
            "Resolving datahack-prod.s3.amazonaws.com (datahack-prod.s3.amazonaws.com)... 52.219.62.24\n",
            "Connecting to datahack-prod.s3.amazonaws.com (datahack-prod.s3.amazonaws.com)|52.219.62.24|:443... connected.\n",
            "HTTP request sent, awaiting response... 200 OK\n",
            "Length: 10810428 (10M) [application/zip]\n",
            "Saving to: ‘test_Jwt0MQH.zip.3’\n",
            "\n",
            "test_Jwt0MQH.zip.3  100%[===================>]  10.31M  4.95MB/s    in 2.1s    \n",
            "\n",
            "2019-05-04 11:02:12 (4.95 MB/s) - ‘test_Jwt0MQH.zip.3’ saved [10810428/10810428]\n",
            "\n"
          ],
          "name": "stdout"
        }
      ]
    },
    {
      "cell_type": "code",
      "metadata": {
        "id": "30gcXUeACeGv",
        "colab_type": "code",
        "outputId": "c318e46d-e120-4ec3-eb49-13d9a85fb95c",
        "colab": {
          "base_uri": "https://localhost:8080/",
          "height": 204
        }
      },
      "source": [
        "!wget https://datahack-prod.s3.amazonaws.com/train_file/train_5CLrC8b.zip"
      ],
      "execution_count": 0,
      "outputs": [
        {
          "output_type": "stream",
          "text": [
            "--2019-05-04 11:02:14--  https://datahack-prod.s3.amazonaws.com/train_file/train_5CLrC8b.zip\n",
            "Resolving datahack-prod.s3.amazonaws.com (datahack-prod.s3.amazonaws.com)... 52.219.64.0\n",
            "Connecting to datahack-prod.s3.amazonaws.com (datahack-prod.s3.amazonaws.com)|52.219.64.0|:443... connected.\n",
            "HTTP request sent, awaiting response... 200 OK\n",
            "Length: 27621619 (26M) [application/zip]\n",
            "Saving to: ‘train_5CLrC8b.zip.3’\n",
            "\n",
            "train_5CLrC8b.zip.3 100%[===================>]  26.34M  7.59MB/s    in 3.5s    \n",
            "\n",
            "2019-05-04 11:02:19 (7.59 MB/s) - ‘train_5CLrC8b.zip.3’ saved [27621619/27621619]\n",
            "\n"
          ],
          "name": "stdout"
        }
      ]
    },
    {
      "cell_type": "code",
      "metadata": {
        "id": "I2Ejxh1fCoVT",
        "colab_type": "code",
        "outputId": "5d46b8e7-17fd-4f9d-d753-c6dfd392e6d8",
        "colab": {
          "base_uri": "https://localhost:8080/",
          "height": 153
        }
      },
      "source": [
        "!unzip train_5CLrC8b.zip\n",
        "!unzip test_Jwt0MQH.zip"
      ],
      "execution_count": 0,
      "outputs": [
        {
          "output_type": "stream",
          "text": [
            "Archive:  train_5CLrC8b.zip\n",
            "replace Data_Dictionary.xlsx? [y]es, [n]o, [A]ll, [N]one, [r]ename: y\n",
            "  inflating: Data_Dictionary.xlsx    \n",
            "replace train.csv? [y]es, [n]o, [A]ll, [N]one, [r]ename: y\n",
            "  inflating: train.csv               \n",
            "Archive:  test_Jwt0MQH.zip\n",
            "replace test.csv? [y]es, [n]o, [A]ll, [N]one, [r]ename: y\n",
            "  inflating: test.csv                \n"
          ],
          "name": "stdout"
        }
      ]
    },
    {
      "cell_type": "code",
      "metadata": {
        "id": "7oWOkiq0es6D",
        "colab_type": "code",
        "colab": {}
      },
      "source": [
        "import pandas as pd\n",
        "from datetime import datetime\n",
        "dateparse = lambda x: datetime.strptime(x, '%d-%m-%Y')"
      ],
      "execution_count": 0,
      "outputs": []
    },
    {
      "cell_type": "code",
      "metadata": {
        "id": "7TB8Bs5zgKzW",
        "colab_type": "code",
        "colab": {}
      },
      "source": [
        "df_train = pd.read_csv(\"train.csv\",parse_dates=True,date_parser=dateparse)"
      ],
      "execution_count": 0,
      "outputs": []
    },
    {
      "cell_type": "code",
      "metadata": {
        "id": "fWYwNzH8gN3N",
        "colab_type": "code",
        "colab": {}
      },
      "source": [
        "df = pd.read_csv(\"test.csv\",parse_dates=True,date_parser=dateparse)"
      ],
      "execution_count": 0,
      "outputs": []
    },
    {
      "cell_type": "code",
      "metadata": {
        "id": "twUv6KVggRc6",
        "colab_type": "code",
        "outputId": "8aa693a9-d8c0-4886-9042-0b42af4e1c50",
        "colab": {
          "base_uri": "https://localhost:8080/",
          "height": 493
        }
      },
      "source": [
        "df.info()"
      ],
      "execution_count": 6,
      "outputs": [
        {
          "output_type": "stream",
          "text": [
            "<class 'pandas.core.frame.DataFrame'>\n",
            "RangeIndex: 146765 entries, 0 to 146764\n",
            "Data columns (total 23 columns):\n",
            "reservation_id              146765 non-null object\n",
            "booking_date                146765 non-null object\n",
            "checkin_date                146765 non-null object\n",
            "checkout_date               146765 non-null object\n",
            "channel_code                146765 non-null int64\n",
            "main_product_code           146765 non-null int64\n",
            "numberofadults              146765 non-null int64\n",
            "numberofchildren            146765 non-null int64\n",
            "persontravellingid          146765 non-null int64\n",
            "resort_region_code          146765 non-null int64\n",
            "resort_type_code            146765 non-null int64\n",
            "room_type_booked_code       146765 non-null int64\n",
            "roomnights                  146765 non-null int64\n",
            "season_holidayed_code       146730 non-null float64\n",
            "state_code_residence        144505 non-null float64\n",
            "state_code_resort           146765 non-null int64\n",
            "total_pax                   146765 non-null int64\n",
            "member_age_buckets          146765 non-null object\n",
            "booking_type_code           146765 non-null int64\n",
            "memberid                    146765 non-null object\n",
            "cluster_code                146765 non-null object\n",
            "reservationstatusid_code    146765 non-null object\n",
            "resort_id                   146765 non-null object\n",
            "dtypes: float64(2), int64(12), object(9)\n",
            "memory usage: 25.8+ MB\n"
          ],
          "name": "stdout"
        }
      ]
    },
    {
      "cell_type": "code",
      "metadata": {
        "id": "ZCVAOGrPgS1l",
        "colab_type": "code",
        "colab": {}
      },
      "source": [
        "import matplotlib\n",
        "%matplotlib inline\n",
        "import seaborn as sns"
      ],
      "execution_count": 0,
      "outputs": []
    },
    {
      "cell_type": "code",
      "metadata": {
        "id": "z29FGatagfyt",
        "colab_type": "code",
        "outputId": "e4641796-6b28-4cd6-fbe0-07cbbf6800c7",
        "colab": {
          "base_uri": "https://localhost:8080/",
          "height": 317
        }
      },
      "source": [
        "df.describe()"
      ],
      "execution_count": 8,
      "outputs": [
        {
          "output_type": "execute_result",
          "data": {
            "text/html": [
              "<div>\n",
              "<style scoped>\n",
              "    .dataframe tbody tr th:only-of-type {\n",
              "        vertical-align: middle;\n",
              "    }\n",
              "\n",
              "    .dataframe tbody tr th {\n",
              "        vertical-align: top;\n",
              "    }\n",
              "\n",
              "    .dataframe thead th {\n",
              "        text-align: right;\n",
              "    }\n",
              "</style>\n",
              "<table border=\"1\" class=\"dataframe\">\n",
              "  <thead>\n",
              "    <tr style=\"text-align: right;\">\n",
              "      <th></th>\n",
              "      <th>channel_code</th>\n",
              "      <th>main_product_code</th>\n",
              "      <th>numberofadults</th>\n",
              "      <th>numberofchildren</th>\n",
              "      <th>persontravellingid</th>\n",
              "      <th>resort_region_code</th>\n",
              "      <th>resort_type_code</th>\n",
              "      <th>room_type_booked_code</th>\n",
              "      <th>roomnights</th>\n",
              "      <th>season_holidayed_code</th>\n",
              "      <th>state_code_residence</th>\n",
              "      <th>state_code_resort</th>\n",
              "      <th>total_pax</th>\n",
              "      <th>booking_type_code</th>\n",
              "    </tr>\n",
              "  </thead>\n",
              "  <tbody>\n",
              "    <tr>\n",
              "      <th>count</th>\n",
              "      <td>146765.000000</td>\n",
              "      <td>146765.000000</td>\n",
              "      <td>146765.000000</td>\n",
              "      <td>146765.000000</td>\n",
              "      <td>146765.000000</td>\n",
              "      <td>146765.000000</td>\n",
              "      <td>146765.000000</td>\n",
              "      <td>146765.000000</td>\n",
              "      <td>146765.000000</td>\n",
              "      <td>146730.000000</td>\n",
              "      <td>144505.000000</td>\n",
              "      <td>146765.000000</td>\n",
              "      <td>146765.000000</td>\n",
              "      <td>146765.000000</td>\n",
              "    </tr>\n",
              "    <tr>\n",
              "      <th>mean</th>\n",
              "      <td>1.902068</td>\n",
              "      <td>2.204483</td>\n",
              "      <td>3.275897</td>\n",
              "      <td>0.362287</td>\n",
              "      <td>209.179852</td>\n",
              "      <td>1.774101</td>\n",
              "      <td>2.196675</td>\n",
              "      <td>2.888754</td>\n",
              "      <td>3.730372</td>\n",
              "      <td>2.681088</td>\n",
              "      <td>7.254206</td>\n",
              "      <td>4.750560</td>\n",
              "      <td>3.188410</td>\n",
              "      <td>1.123354</td>\n",
              "    </tr>\n",
              "    <tr>\n",
              "      <th>std</th>\n",
              "      <td>0.914653</td>\n",
              "      <td>0.817804</td>\n",
              "      <td>1.783842</td>\n",
              "      <td>0.758218</td>\n",
              "      <td>862.926844</td>\n",
              "      <td>0.753281</td>\n",
              "      <td>1.544679</td>\n",
              "      <td>0.804043</td>\n",
              "      <td>2.482388</td>\n",
              "      <td>0.882366</td>\n",
              "      <td>4.755982</td>\n",
              "      <td>3.101036</td>\n",
              "      <td>1.163872</td>\n",
              "      <td>0.328844</td>\n",
              "    </tr>\n",
              "    <tr>\n",
              "      <th>min</th>\n",
              "      <td>1.000000</td>\n",
              "      <td>1.000000</td>\n",
              "      <td>0.000000</td>\n",
              "      <td>0.000000</td>\n",
              "      <td>45.000000</td>\n",
              "      <td>1.000000</td>\n",
              "      <td>0.000000</td>\n",
              "      <td>1.000000</td>\n",
              "      <td>0.000000</td>\n",
              "      <td>1.000000</td>\n",
              "      <td>1.000000</td>\n",
              "      <td>1.000000</td>\n",
              "      <td>0.000000</td>\n",
              "      <td>1.000000</td>\n",
              "    </tr>\n",
              "    <tr>\n",
              "      <th>25%</th>\n",
              "      <td>1.000000</td>\n",
              "      <td>2.000000</td>\n",
              "      <td>2.000000</td>\n",
              "      <td>0.000000</td>\n",
              "      <td>45.000000</td>\n",
              "      <td>1.000000</td>\n",
              "      <td>1.000000</td>\n",
              "      <td>2.000000</td>\n",
              "      <td>2.000000</td>\n",
              "      <td>2.000000</td>\n",
              "      <td>4.000000</td>\n",
              "      <td>2.000000</td>\n",
              "      <td>2.000000</td>\n",
              "      <td>1.000000</td>\n",
              "    </tr>\n",
              "    <tr>\n",
              "      <th>50%</th>\n",
              "      <td>2.000000</td>\n",
              "      <td>2.000000</td>\n",
              "      <td>3.000000</td>\n",
              "      <td>0.000000</td>\n",
              "      <td>45.000000</td>\n",
              "      <td>2.000000</td>\n",
              "      <td>2.000000</td>\n",
              "      <td>3.000000</td>\n",
              "      <td>3.000000</td>\n",
              "      <td>3.000000</td>\n",
              "      <td>8.000000</td>\n",
              "      <td>5.000000</td>\n",
              "      <td>3.000000</td>\n",
              "      <td>1.000000</td>\n",
              "    </tr>\n",
              "    <tr>\n",
              "      <th>75%</th>\n",
              "      <td>3.000000</td>\n",
              "      <td>3.000000</td>\n",
              "      <td>4.000000</td>\n",
              "      <td>0.000000</td>\n",
              "      <td>45.000000</td>\n",
              "      <td>2.000000</td>\n",
              "      <td>3.000000</td>\n",
              "      <td>3.000000</td>\n",
              "      <td>4.000000</td>\n",
              "      <td>3.000000</td>\n",
              "      <td>8.000000</td>\n",
              "      <td>7.000000</td>\n",
              "      <td>4.000000</td>\n",
              "      <td>1.000000</td>\n",
              "    </tr>\n",
              "    <tr>\n",
              "      <th>max</th>\n",
              "      <td>3.000000</td>\n",
              "      <td>7.000000</td>\n",
              "      <td>32.000000</td>\n",
              "      <td>10.000000</td>\n",
              "      <td>4995.000000</td>\n",
              "      <td>3.000000</td>\n",
              "      <td>7.000000</td>\n",
              "      <td>6.000000</td>\n",
              "      <td>80.000000</td>\n",
              "      <td>4.000000</td>\n",
              "      <td>38.000000</td>\n",
              "      <td>13.000000</td>\n",
              "      <td>21.000000</td>\n",
              "      <td>2.000000</td>\n",
              "    </tr>\n",
              "  </tbody>\n",
              "</table>\n",
              "</div>"
            ],
            "text/plain": [
              "        channel_code  main_product_code  numberofadults  numberofchildren  \\\n",
              "count  146765.000000      146765.000000   146765.000000     146765.000000   \n",
              "mean        1.902068           2.204483        3.275897          0.362287   \n",
              "std         0.914653           0.817804        1.783842          0.758218   \n",
              "min         1.000000           1.000000        0.000000          0.000000   \n",
              "25%         1.000000           2.000000        2.000000          0.000000   \n",
              "50%         2.000000           2.000000        3.000000          0.000000   \n",
              "75%         3.000000           3.000000        4.000000          0.000000   \n",
              "max         3.000000           7.000000       32.000000         10.000000   \n",
              "\n",
              "       persontravellingid  resort_region_code  resort_type_code  \\\n",
              "count       146765.000000       146765.000000     146765.000000   \n",
              "mean           209.179852            1.774101          2.196675   \n",
              "std            862.926844            0.753281          1.544679   \n",
              "min             45.000000            1.000000          0.000000   \n",
              "25%             45.000000            1.000000          1.000000   \n",
              "50%             45.000000            2.000000          2.000000   \n",
              "75%             45.000000            2.000000          3.000000   \n",
              "max           4995.000000            3.000000          7.000000   \n",
              "\n",
              "       room_type_booked_code     roomnights  season_holidayed_code  \\\n",
              "count          146765.000000  146765.000000          146730.000000   \n",
              "mean                2.888754       3.730372               2.681088   \n",
              "std                 0.804043       2.482388               0.882366   \n",
              "min                 1.000000       0.000000               1.000000   \n",
              "25%                 2.000000       2.000000               2.000000   \n",
              "50%                 3.000000       3.000000               3.000000   \n",
              "75%                 3.000000       4.000000               3.000000   \n",
              "max                 6.000000      80.000000               4.000000   \n",
              "\n",
              "       state_code_residence  state_code_resort      total_pax  \\\n",
              "count         144505.000000      146765.000000  146765.000000   \n",
              "mean               7.254206           4.750560       3.188410   \n",
              "std                4.755982           3.101036       1.163872   \n",
              "min                1.000000           1.000000       0.000000   \n",
              "25%                4.000000           2.000000       2.000000   \n",
              "50%                8.000000           5.000000       3.000000   \n",
              "75%                8.000000           7.000000       4.000000   \n",
              "max               38.000000          13.000000      21.000000   \n",
              "\n",
              "       booking_type_code  \n",
              "count      146765.000000  \n",
              "mean            1.123354  \n",
              "std             0.328844  \n",
              "min             1.000000  \n",
              "25%             1.000000  \n",
              "50%             1.000000  \n",
              "75%             1.000000  \n",
              "max             2.000000  "
            ]
          },
          "metadata": {
            "tags": []
          },
          "execution_count": 8
        }
      ]
    },
    {
      "cell_type": "code",
      "metadata": {
        "id": "2MqCIKmVgonc",
        "colab_type": "code",
        "outputId": "66271ec7-267b-4aa7-cb7e-05045edbc0d5",
        "colab": {
          "base_uri": "https://localhost:8080/",
          "height": 253
        }
      },
      "source": [
        "df.head()\n"
      ],
      "execution_count": 9,
      "outputs": [
        {
          "output_type": "execute_result",
          "data": {
            "text/html": [
              "<div>\n",
              "<style scoped>\n",
              "    .dataframe tbody tr th:only-of-type {\n",
              "        vertical-align: middle;\n",
              "    }\n",
              "\n",
              "    .dataframe tbody tr th {\n",
              "        vertical-align: top;\n",
              "    }\n",
              "\n",
              "    .dataframe thead th {\n",
              "        text-align: right;\n",
              "    }\n",
              "</style>\n",
              "<table border=\"1\" class=\"dataframe\">\n",
              "  <thead>\n",
              "    <tr style=\"text-align: right;\">\n",
              "      <th></th>\n",
              "      <th>reservation_id</th>\n",
              "      <th>booking_date</th>\n",
              "      <th>checkin_date</th>\n",
              "      <th>checkout_date</th>\n",
              "      <th>channel_code</th>\n",
              "      <th>main_product_code</th>\n",
              "      <th>numberofadults</th>\n",
              "      <th>numberofchildren</th>\n",
              "      <th>persontravellingid</th>\n",
              "      <th>resort_region_code</th>\n",
              "      <th>...</th>\n",
              "      <th>season_holidayed_code</th>\n",
              "      <th>state_code_residence</th>\n",
              "      <th>state_code_resort</th>\n",
              "      <th>total_pax</th>\n",
              "      <th>member_age_buckets</th>\n",
              "      <th>booking_type_code</th>\n",
              "      <th>memberid</th>\n",
              "      <th>cluster_code</th>\n",
              "      <th>reservationstatusid_code</th>\n",
              "      <th>resort_id</th>\n",
              "    </tr>\n",
              "  </thead>\n",
              "  <tbody>\n",
              "    <tr>\n",
              "      <th>0</th>\n",
              "      <td>7dae1ce6bc8f69481328f2be5c4943077dad5598b5f66d...</td>\n",
              "      <td>05/04/18</td>\n",
              "      <td>05/04/18</td>\n",
              "      <td>06/04/18</td>\n",
              "      <td>3</td>\n",
              "      <td>2</td>\n",
              "      <td>2</td>\n",
              "      <td>0</td>\n",
              "      <td>45</td>\n",
              "      <td>3</td>\n",
              "      <td>...</td>\n",
              "      <td>2.0</td>\n",
              "      <td>2.0</td>\n",
              "      <td>3</td>\n",
              "      <td>3</td>\n",
              "      <td>H</td>\n",
              "      <td>1</td>\n",
              "      <td>2114944930dcc42ce5b9b50ae965cf8a9c04e46be63d84...</td>\n",
              "      <td>A</td>\n",
              "      <td>C</td>\n",
              "      <td>9f14025af0065b30e47e23ebb3b491d39ae8ed17d33739...</td>\n",
              "    </tr>\n",
              "    <tr>\n",
              "      <th>1</th>\n",
              "      <td>fe0d4e444e1818436c88f72f1cf800536c2f785e59baeb...</td>\n",
              "      <td>24/05/15</td>\n",
              "      <td>23/06/15</td>\n",
              "      <td>27/06/15</td>\n",
              "      <td>1</td>\n",
              "      <td>2</td>\n",
              "      <td>4</td>\n",
              "      <td>0</td>\n",
              "      <td>45</td>\n",
              "      <td>1</td>\n",
              "      <td>...</td>\n",
              "      <td>2.0</td>\n",
              "      <td>2.0</td>\n",
              "      <td>4</td>\n",
              "      <td>2</td>\n",
              "      <td>H</td>\n",
              "      <td>1</td>\n",
              "      <td>2114944930dcc42ce5b9b50ae965cf8a9c04e46be63d84...</td>\n",
              "      <td>F</td>\n",
              "      <td>A</td>\n",
              "      <td>e7f6c011776e8db7cd330b54174fd76f7d0216b612387a...</td>\n",
              "    </tr>\n",
              "    <tr>\n",
              "      <th>2</th>\n",
              "      <td>540bd4285ad8168e8388f84ee74a82cd4f97dc0a404d3e...</td>\n",
              "      <td>21/07/15</td>\n",
              "      <td>07/08/15</td>\n",
              "      <td>10/08/15</td>\n",
              "      <td>3</td>\n",
              "      <td>2</td>\n",
              "      <td>3</td>\n",
              "      <td>0</td>\n",
              "      <td>45</td>\n",
              "      <td>2</td>\n",
              "      <td>...</td>\n",
              "      <td>4.0</td>\n",
              "      <td>2.0</td>\n",
              "      <td>2</td>\n",
              "      <td>3</td>\n",
              "      <td>H</td>\n",
              "      <td>1</td>\n",
              "      <td>2114944930dcc42ce5b9b50ae965cf8a9c04e46be63d84...</td>\n",
              "      <td>D</td>\n",
              "      <td>A</td>\n",
              "      <td>d4735e3a265e16eee03f59718b9b5d03019c07d8b6c51f...</td>\n",
              "    </tr>\n",
              "    <tr>\n",
              "      <th>3</th>\n",
              "      <td>09593c907ae262e46f655b4db9e14f54a19eadcfdd2679...</td>\n",
              "      <td>31/07/15</td>\n",
              "      <td>22/10/15</td>\n",
              "      <td>25/10/15</td>\n",
              "      <td>1</td>\n",
              "      <td>2</td>\n",
              "      <td>3</td>\n",
              "      <td>0</td>\n",
              "      <td>45</td>\n",
              "      <td>1</td>\n",
              "      <td>...</td>\n",
              "      <td>2.0</td>\n",
              "      <td>2.0</td>\n",
              "      <td>6</td>\n",
              "      <td>3</td>\n",
              "      <td>H</td>\n",
              "      <td>1</td>\n",
              "      <td>2114944930dcc42ce5b9b50ae965cf8a9c04e46be63d84...</td>\n",
              "      <td>F</td>\n",
              "      <td>A</td>\n",
              "      <td>49d180ecf56132819571bf39d9b7b342522a2ac6d23c14...</td>\n",
              "    </tr>\n",
              "    <tr>\n",
              "      <th>4</th>\n",
              "      <td>f4c50caac68051faf37551d70bb17eebef2a20e2244cb1...</td>\n",
              "      <td>01/07/16</td>\n",
              "      <td>01/10/16</td>\n",
              "      <td>05/10/16</td>\n",
              "      <td>1</td>\n",
              "      <td>2</td>\n",
              "      <td>4</td>\n",
              "      <td>0</td>\n",
              "      <td>45</td>\n",
              "      <td>1</td>\n",
              "      <td>...</td>\n",
              "      <td>2.0</td>\n",
              "      <td>2.0</td>\n",
              "      <td>11</td>\n",
              "      <td>2</td>\n",
              "      <td>H</td>\n",
              "      <td>1</td>\n",
              "      <td>2114944930dcc42ce5b9b50ae965cf8a9c04e46be63d84...</td>\n",
              "      <td>F</td>\n",
              "      <td>A</td>\n",
              "      <td>e29c9c180c6279b0b02abd6a1801c7c04082cf486ec027...</td>\n",
              "    </tr>\n",
              "  </tbody>\n",
              "</table>\n",
              "<p>5 rows × 23 columns</p>\n",
              "</div>"
            ],
            "text/plain": [
              "                                      reservation_id booking_date  \\\n",
              "0  7dae1ce6bc8f69481328f2be5c4943077dad5598b5f66d...     05/04/18   \n",
              "1  fe0d4e444e1818436c88f72f1cf800536c2f785e59baeb...     24/05/15   \n",
              "2  540bd4285ad8168e8388f84ee74a82cd4f97dc0a404d3e...     21/07/15   \n",
              "3  09593c907ae262e46f655b4db9e14f54a19eadcfdd2679...     31/07/15   \n",
              "4  f4c50caac68051faf37551d70bb17eebef2a20e2244cb1...     01/07/16   \n",
              "\n",
              "  checkin_date checkout_date  channel_code  main_product_code  numberofadults  \\\n",
              "0     05/04/18      06/04/18             3                  2               2   \n",
              "1     23/06/15      27/06/15             1                  2               4   \n",
              "2     07/08/15      10/08/15             3                  2               3   \n",
              "3     22/10/15      25/10/15             1                  2               3   \n",
              "4     01/10/16      05/10/16             1                  2               4   \n",
              "\n",
              "   numberofchildren  persontravellingid  resort_region_code  ...  \\\n",
              "0                 0                  45                   3  ...   \n",
              "1                 0                  45                   1  ...   \n",
              "2                 0                  45                   2  ...   \n",
              "3                 0                  45                   1  ...   \n",
              "4                 0                  45                   1  ...   \n",
              "\n",
              "   season_holidayed_code  state_code_residence  state_code_resort  total_pax  \\\n",
              "0                    2.0                   2.0                  3          3   \n",
              "1                    2.0                   2.0                  4          2   \n",
              "2                    4.0                   2.0                  2          3   \n",
              "3                    2.0                   2.0                  6          3   \n",
              "4                    2.0                   2.0                 11          2   \n",
              "\n",
              "   member_age_buckets  booking_type_code  \\\n",
              "0                   H                  1   \n",
              "1                   H                  1   \n",
              "2                   H                  1   \n",
              "3                   H                  1   \n",
              "4                   H                  1   \n",
              "\n",
              "                                            memberid cluster_code  \\\n",
              "0  2114944930dcc42ce5b9b50ae965cf8a9c04e46be63d84...            A   \n",
              "1  2114944930dcc42ce5b9b50ae965cf8a9c04e46be63d84...            F   \n",
              "2  2114944930dcc42ce5b9b50ae965cf8a9c04e46be63d84...            D   \n",
              "3  2114944930dcc42ce5b9b50ae965cf8a9c04e46be63d84...            F   \n",
              "4  2114944930dcc42ce5b9b50ae965cf8a9c04e46be63d84...            F   \n",
              "\n",
              "   reservationstatusid_code                                          resort_id  \n",
              "0                         C  9f14025af0065b30e47e23ebb3b491d39ae8ed17d33739...  \n",
              "1                         A  e7f6c011776e8db7cd330b54174fd76f7d0216b612387a...  \n",
              "2                         A  d4735e3a265e16eee03f59718b9b5d03019c07d8b6c51f...  \n",
              "3                         A  49d180ecf56132819571bf39d9b7b342522a2ac6d23c14...  \n",
              "4                         A  e29c9c180c6279b0b02abd6a1801c7c04082cf486ec027...  \n",
              "\n",
              "[5 rows x 23 columns]"
            ]
          },
          "metadata": {
            "tags": []
          },
          "execution_count": 9
        }
      ]
    },
    {
      "cell_type": "code",
      "metadata": {
        "id": "kwIyI-ZvkL66",
        "colab_type": "code",
        "outputId": "98870bcc-847b-4993-a6a6-0cb083f61721",
        "colab": {
          "base_uri": "https://localhost:8080/",
          "height": 34
        }
      },
      "source": [
        "  df[\"channel_code\"].unique()"
      ],
      "execution_count": 10,
      "outputs": [
        {
          "output_type": "execute_result",
          "data": {
            "text/plain": [
              "array([3, 1, 2])"
            ]
          },
          "metadata": {
            "tags": []
          },
          "execution_count": 10
        }
      ]
    },
    {
      "cell_type": "code",
      "metadata": {
        "id": "qvpHN-lLlauf",
        "colab_type": "code",
        "colab": {}
      },
      "source": [
        "\n"
      ],
      "execution_count": 0,
      "outputs": []
    },
    {
      "cell_type": "markdown",
      "metadata": {
        "id": "O4LbZFcRmhxQ",
        "colab_type": "text"
      },
      "source": [
        "cluster code = 6 unique   ['F', 'E', 'D', 'B', 'A', 'C']\n",
        "\n",
        "```\n",
        "# This is formatted as code\n",
        "```\n",
        "reservationstatusid_code = 4 unique values ['C', 'A', 'B', 'D']\n",
        "\n",
        "booking_type_code = 2 unique values [1, 2]\n",
        "\n",
        "member_age_buckets\t= 10 unique values ['F', 'H', 'D', 'E', 'I', 'G', 'C', 'B', 'A', 'J']\n",
        "\n",
        "state_code_resort = 11 unique  values [ 3,  5,  1,  2,  6,  9, 10,  4, 11,  7, 13]\n",
        "\n",
        "persontravellingid = 6 unique values [  46,   47,   45, 4752, 4753, 4995]\n",
        "\n",
        "main_product_code = 5 unique values [1, 2, 3, 4, 7]\n",
        "\n",
        "channel_code = 3 unique values [3, 1, 2]\n",
        "\n",
        "Find/Derive -----\n",
        "\n",
        "Total number of days the person has stayed\n",
        "\n",
        "The month in which booking is made\n",
        "\n",
        "Check if the booking and check in date is same\n",
        "\n",
        "Check the difference between the check out and booking date\n"
      ]
    },
    {
      "cell_type": "code",
      "metadata": {
        "id": "YPVXAdz2oohw",
        "colab_type": "code",
        "outputId": "297447b8-f871-4a31-8ddc-4440e8ea129c",
        "colab": {
          "base_uri": "https://localhost:8080/",
          "height": 34
        }
      },
      "source": [
        "pd.to_datetime(df[\"booking_date\"][0]).month\n",
        "from datetime import datetime\n",
        "d = datetime.strptime(df[\"checkin_date\"][1], '%d/%m/%y')\n",
        "print((d.date()))\n",
        "\n",
        "\n",
        "\n",
        "\n",
        "\n"
      ],
      "execution_count": 11,
      "outputs": [
        {
          "output_type": "stream",
          "text": [
            "2015-06-23\n"
          ],
          "name": "stdout"
        }
      ]
    },
    {
      "cell_type": "code",
      "metadata": {
        "id": "QMfvnVkMFnKJ",
        "colab_type": "code",
        "colab": {}
      },
      "source": [
        "df.loc[:,\"new_checkin\"] = df[\"checkin_date\"].apply(lambda x :datetime.strptime(x, '%d/%m/%y').date().strftime('%Y-%m-%d'))\n",
        "df.loc[:,\"new_checkout\"] = df[\"checkout_date\"].apply(lambda x :datetime.strptime(x, '%d/%m/%y').date().strftime('%Y-%m-%d'))\n",
        "df.loc[:,\"new_booking\"] = df[\"booking_date\"].apply(lambda x :datetime.strptime(x, '%d/%m/%y').date().strftime('%Y-%m-%d'))"
      ],
      "execution_count": 0,
      "outputs": []
    },
    {
      "cell_type": "code",
      "metadata": {
        "id": "PW15uZh_y0qN",
        "colab_type": "code",
        "outputId": "19404c98-40d4-4a87-d862-b4add369007b",
        "colab": {
          "base_uri": "https://localhost:8080/",
          "height": 718
        }
      },
      "source": [
        "df.loc[:,\"booking_month\"] = df[\"new_booking\"].apply(lambda x: pd.to_datetime(x,format=\"%Y-%m-%d\").month)\n",
        "df.head(20)"
      ],
      "execution_count": 13,
      "outputs": [
        {
          "output_type": "execute_result",
          "data": {
            "text/html": [
              "<div>\n",
              "<style scoped>\n",
              "    .dataframe tbody tr th:only-of-type {\n",
              "        vertical-align: middle;\n",
              "    }\n",
              "\n",
              "    .dataframe tbody tr th {\n",
              "        vertical-align: top;\n",
              "    }\n",
              "\n",
              "    .dataframe thead th {\n",
              "        text-align: right;\n",
              "    }\n",
              "</style>\n",
              "<table border=\"1\" class=\"dataframe\">\n",
              "  <thead>\n",
              "    <tr style=\"text-align: right;\">\n",
              "      <th></th>\n",
              "      <th>reservation_id</th>\n",
              "      <th>booking_date</th>\n",
              "      <th>checkin_date</th>\n",
              "      <th>checkout_date</th>\n",
              "      <th>channel_code</th>\n",
              "      <th>main_product_code</th>\n",
              "      <th>numberofadults</th>\n",
              "      <th>numberofchildren</th>\n",
              "      <th>persontravellingid</th>\n",
              "      <th>resort_region_code</th>\n",
              "      <th>...</th>\n",
              "      <th>member_age_buckets</th>\n",
              "      <th>booking_type_code</th>\n",
              "      <th>memberid</th>\n",
              "      <th>cluster_code</th>\n",
              "      <th>reservationstatusid_code</th>\n",
              "      <th>resort_id</th>\n",
              "      <th>new_checkin</th>\n",
              "      <th>new_checkout</th>\n",
              "      <th>new_booking</th>\n",
              "      <th>booking_month</th>\n",
              "    </tr>\n",
              "  </thead>\n",
              "  <tbody>\n",
              "    <tr>\n",
              "      <th>0</th>\n",
              "      <td>7dae1ce6bc8f69481328f2be5c4943077dad5598b5f66d...</td>\n",
              "      <td>05/04/18</td>\n",
              "      <td>05/04/18</td>\n",
              "      <td>06/04/18</td>\n",
              "      <td>3</td>\n",
              "      <td>2</td>\n",
              "      <td>2</td>\n",
              "      <td>0</td>\n",
              "      <td>45</td>\n",
              "      <td>3</td>\n",
              "      <td>...</td>\n",
              "      <td>H</td>\n",
              "      <td>1</td>\n",
              "      <td>2114944930dcc42ce5b9b50ae965cf8a9c04e46be63d84...</td>\n",
              "      <td>A</td>\n",
              "      <td>C</td>\n",
              "      <td>9f14025af0065b30e47e23ebb3b491d39ae8ed17d33739...</td>\n",
              "      <td>2018-04-05</td>\n",
              "      <td>2018-04-06</td>\n",
              "      <td>2018-04-05</td>\n",
              "      <td>4</td>\n",
              "    </tr>\n",
              "    <tr>\n",
              "      <th>1</th>\n",
              "      <td>fe0d4e444e1818436c88f72f1cf800536c2f785e59baeb...</td>\n",
              "      <td>24/05/15</td>\n",
              "      <td>23/06/15</td>\n",
              "      <td>27/06/15</td>\n",
              "      <td>1</td>\n",
              "      <td>2</td>\n",
              "      <td>4</td>\n",
              "      <td>0</td>\n",
              "      <td>45</td>\n",
              "      <td>1</td>\n",
              "      <td>...</td>\n",
              "      <td>H</td>\n",
              "      <td>1</td>\n",
              "      <td>2114944930dcc42ce5b9b50ae965cf8a9c04e46be63d84...</td>\n",
              "      <td>F</td>\n",
              "      <td>A</td>\n",
              "      <td>e7f6c011776e8db7cd330b54174fd76f7d0216b612387a...</td>\n",
              "      <td>2015-06-23</td>\n",
              "      <td>2015-06-27</td>\n",
              "      <td>2015-05-24</td>\n",
              "      <td>5</td>\n",
              "    </tr>\n",
              "    <tr>\n",
              "      <th>2</th>\n",
              "      <td>540bd4285ad8168e8388f84ee74a82cd4f97dc0a404d3e...</td>\n",
              "      <td>21/07/15</td>\n",
              "      <td>07/08/15</td>\n",
              "      <td>10/08/15</td>\n",
              "      <td>3</td>\n",
              "      <td>2</td>\n",
              "      <td>3</td>\n",
              "      <td>0</td>\n",
              "      <td>45</td>\n",
              "      <td>2</td>\n",
              "      <td>...</td>\n",
              "      <td>H</td>\n",
              "      <td>1</td>\n",
              "      <td>2114944930dcc42ce5b9b50ae965cf8a9c04e46be63d84...</td>\n",
              "      <td>D</td>\n",
              "      <td>A</td>\n",
              "      <td>d4735e3a265e16eee03f59718b9b5d03019c07d8b6c51f...</td>\n",
              "      <td>2015-08-07</td>\n",
              "      <td>2015-08-10</td>\n",
              "      <td>2015-07-21</td>\n",
              "      <td>7</td>\n",
              "    </tr>\n",
              "    <tr>\n",
              "      <th>3</th>\n",
              "      <td>09593c907ae262e46f655b4db9e14f54a19eadcfdd2679...</td>\n",
              "      <td>31/07/15</td>\n",
              "      <td>22/10/15</td>\n",
              "      <td>25/10/15</td>\n",
              "      <td>1</td>\n",
              "      <td>2</td>\n",
              "      <td>3</td>\n",
              "      <td>0</td>\n",
              "      <td>45</td>\n",
              "      <td>1</td>\n",
              "      <td>...</td>\n",
              "      <td>H</td>\n",
              "      <td>1</td>\n",
              "      <td>2114944930dcc42ce5b9b50ae965cf8a9c04e46be63d84...</td>\n",
              "      <td>F</td>\n",
              "      <td>A</td>\n",
              "      <td>49d180ecf56132819571bf39d9b7b342522a2ac6d23c14...</td>\n",
              "      <td>2015-10-22</td>\n",
              "      <td>2015-10-25</td>\n",
              "      <td>2015-07-31</td>\n",
              "      <td>7</td>\n",
              "    </tr>\n",
              "    <tr>\n",
              "      <th>4</th>\n",
              "      <td>f4c50caac68051faf37551d70bb17eebef2a20e2244cb1...</td>\n",
              "      <td>01/07/16</td>\n",
              "      <td>01/10/16</td>\n",
              "      <td>05/10/16</td>\n",
              "      <td>1</td>\n",
              "      <td>2</td>\n",
              "      <td>4</td>\n",
              "      <td>0</td>\n",
              "      <td>45</td>\n",
              "      <td>1</td>\n",
              "      <td>...</td>\n",
              "      <td>H</td>\n",
              "      <td>1</td>\n",
              "      <td>2114944930dcc42ce5b9b50ae965cf8a9c04e46be63d84...</td>\n",
              "      <td>F</td>\n",
              "      <td>A</td>\n",
              "      <td>e29c9c180c6279b0b02abd6a1801c7c04082cf486ec027...</td>\n",
              "      <td>2016-10-01</td>\n",
              "      <td>2016-10-05</td>\n",
              "      <td>2016-07-01</td>\n",
              "      <td>7</td>\n",
              "    </tr>\n",
              "    <tr>\n",
              "      <th>5</th>\n",
              "      <td>69a8c691057e9396eaa23625a47435eebda41102b83dfb...</td>\n",
              "      <td>31/07/17</td>\n",
              "      <td>15/08/17</td>\n",
              "      <td>19/08/17</td>\n",
              "      <td>1</td>\n",
              "      <td>2</td>\n",
              "      <td>2</td>\n",
              "      <td>0</td>\n",
              "      <td>45</td>\n",
              "      <td>1</td>\n",
              "      <td>...</td>\n",
              "      <td>H</td>\n",
              "      <td>1</td>\n",
              "      <td>2114944930dcc42ce5b9b50ae965cf8a9c04e46be63d84...</td>\n",
              "      <td>F</td>\n",
              "      <td>A</td>\n",
              "      <td>b17ef6d19c7a5b1ee83b907c595526dcb1eb06db8227d6...</td>\n",
              "      <td>2017-08-15</td>\n",
              "      <td>2017-08-19</td>\n",
              "      <td>2017-07-31</td>\n",
              "      <td>7</td>\n",
              "    </tr>\n",
              "    <tr>\n",
              "      <th>6</th>\n",
              "      <td>0cee97bb4f3b15493d20994fc4ef34b54d778f8eb7e6d3...</td>\n",
              "      <td>02/10/17</td>\n",
              "      <td>18/01/18</td>\n",
              "      <td>22/01/18</td>\n",
              "      <td>1</td>\n",
              "      <td>2</td>\n",
              "      <td>2</td>\n",
              "      <td>0</td>\n",
              "      <td>45</td>\n",
              "      <td>2</td>\n",
              "      <td>...</td>\n",
              "      <td>H</td>\n",
              "      <td>1</td>\n",
              "      <td>2114944930dcc42ce5b9b50ae965cf8a9c04e46be63d84...</td>\n",
              "      <td>D</td>\n",
              "      <td>A</td>\n",
              "      <td>d4735e3a265e16eee03f59718b9b5d03019c07d8b6c51f...</td>\n",
              "      <td>2018-01-18</td>\n",
              "      <td>2018-01-22</td>\n",
              "      <td>2017-10-02</td>\n",
              "      <td>10</td>\n",
              "    </tr>\n",
              "    <tr>\n",
              "      <th>7</th>\n",
              "      <td>13fd266f2859828250494a72c5e14d12dfdb6cac0983d8...</td>\n",
              "      <td>05/04/18</td>\n",
              "      <td>05/04/18</td>\n",
              "      <td>06/04/18</td>\n",
              "      <td>3</td>\n",
              "      <td>2</td>\n",
              "      <td>2</td>\n",
              "      <td>0</td>\n",
              "      <td>45</td>\n",
              "      <td>1</td>\n",
              "      <td>...</td>\n",
              "      <td>D</td>\n",
              "      <td>1</td>\n",
              "      <td>ba9c03d4f964eb145ffc0ba7d07aa0b08e35cb3e8f71bc...</td>\n",
              "      <td>E</td>\n",
              "      <td>C</td>\n",
              "      <td>c75cb66ae28d8ebc6eded002c28a8ba0d06d3a78c6b5cb...</td>\n",
              "      <td>2018-04-05</td>\n",
              "      <td>2018-04-06</td>\n",
              "      <td>2018-04-05</td>\n",
              "      <td>4</td>\n",
              "    </tr>\n",
              "    <tr>\n",
              "      <th>8</th>\n",
              "      <td>8a0e44a731edd24628fa9e9d5d2ed9b22f07e91b6881f2...</td>\n",
              "      <td>19/06/17</td>\n",
              "      <td>02/07/17</td>\n",
              "      <td>04/07/17</td>\n",
              "      <td>1</td>\n",
              "      <td>2</td>\n",
              "      <td>2</td>\n",
              "      <td>2</td>\n",
              "      <td>45</td>\n",
              "      <td>1</td>\n",
              "      <td>...</td>\n",
              "      <td>D</td>\n",
              "      <td>1</td>\n",
              "      <td>ba9c03d4f964eb145ffc0ba7d07aa0b08e35cb3e8f71bc...</td>\n",
              "      <td>F</td>\n",
              "      <td>A</td>\n",
              "      <td>b17ef6d19c7a5b1ee83b907c595526dcb1eb06db8227d6...</td>\n",
              "      <td>2017-07-02</td>\n",
              "      <td>2017-07-04</td>\n",
              "      <td>2017-06-19</td>\n",
              "      <td>6</td>\n",
              "    </tr>\n",
              "    <tr>\n",
              "      <th>9</th>\n",
              "      <td>c3bdb69eedad1a992df7be568e50da86a4e1de8ad7ff36...</td>\n",
              "      <td>12/02/18</td>\n",
              "      <td>19/02/18</td>\n",
              "      <td>21/02/18</td>\n",
              "      <td>2</td>\n",
              "      <td>2</td>\n",
              "      <td>2</td>\n",
              "      <td>0</td>\n",
              "      <td>45</td>\n",
              "      <td>1</td>\n",
              "      <td>...</td>\n",
              "      <td>D</td>\n",
              "      <td>1</td>\n",
              "      <td>ba9c03d4f964eb145ffc0ba7d07aa0b08e35cb3e8f71bc...</td>\n",
              "      <td>F</td>\n",
              "      <td>A</td>\n",
              "      <td>b17ef6d19c7a5b1ee83b907c595526dcb1eb06db8227d6...</td>\n",
              "      <td>2018-02-19</td>\n",
              "      <td>2018-02-21</td>\n",
              "      <td>2018-02-12</td>\n",
              "      <td>2</td>\n",
              "    </tr>\n",
              "    <tr>\n",
              "      <th>10</th>\n",
              "      <td>dda0409fb2127899829ec700d635f81ca656081af07e92...</td>\n",
              "      <td>20/02/18</td>\n",
              "      <td>03/04/18</td>\n",
              "      <td>05/04/18</td>\n",
              "      <td>1</td>\n",
              "      <td>2</td>\n",
              "      <td>2</td>\n",
              "      <td>2</td>\n",
              "      <td>45</td>\n",
              "      <td>1</td>\n",
              "      <td>...</td>\n",
              "      <td>D</td>\n",
              "      <td>1</td>\n",
              "      <td>ba9c03d4f964eb145ffc0ba7d07aa0b08e35cb3e8f71bc...</td>\n",
              "      <td>E</td>\n",
              "      <td>A</td>\n",
              "      <td>535fa30d7e25dd8a49f1536779734ec8286108d115da50...</td>\n",
              "      <td>2018-04-03</td>\n",
              "      <td>2018-04-05</td>\n",
              "      <td>2018-02-20</td>\n",
              "      <td>2</td>\n",
              "    </tr>\n",
              "    <tr>\n",
              "      <th>11</th>\n",
              "      <td>9e086496b64ce3b184f41f76f93dd294bfa47b735ec53e...</td>\n",
              "      <td>12/03/18</td>\n",
              "      <td>23/03/18</td>\n",
              "      <td>25/03/18</td>\n",
              "      <td>3</td>\n",
              "      <td>2</td>\n",
              "      <td>6</td>\n",
              "      <td>0</td>\n",
              "      <td>45</td>\n",
              "      <td>1</td>\n",
              "      <td>...</td>\n",
              "      <td>D</td>\n",
              "      <td>1</td>\n",
              "      <td>ba9c03d4f964eb145ffc0ba7d07aa0b08e35cb3e8f71bc...</td>\n",
              "      <td>F</td>\n",
              "      <td>A</td>\n",
              "      <td>3fdba35f04dc8c462986c992bcf875546257113072a909...</td>\n",
              "      <td>2018-03-23</td>\n",
              "      <td>2018-03-25</td>\n",
              "      <td>2018-03-12</td>\n",
              "      <td>3</td>\n",
              "    </tr>\n",
              "    <tr>\n",
              "      <th>12</th>\n",
              "      <td>f8909ee404b8c0b63356700b32cbb49b85999aedfbc477...</td>\n",
              "      <td>04/01/19</td>\n",
              "      <td>17/01/19</td>\n",
              "      <td>21/01/19</td>\n",
              "      <td>1</td>\n",
              "      <td>2</td>\n",
              "      <td>3</td>\n",
              "      <td>0</td>\n",
              "      <td>45</td>\n",
              "      <td>3</td>\n",
              "      <td>...</td>\n",
              "      <td>D</td>\n",
              "      <td>1</td>\n",
              "      <td>ba9c03d4f964eb145ffc0ba7d07aa0b08e35cb3e8f71bc...</td>\n",
              "      <td>A</td>\n",
              "      <td>A</td>\n",
              "      <td>7f2253d7e228b22a08bda1f09c516f6fead81df6536eb0...</td>\n",
              "      <td>2019-01-17</td>\n",
              "      <td>2019-01-21</td>\n",
              "      <td>2019-01-04</td>\n",
              "      <td>1</td>\n",
              "    </tr>\n",
              "    <tr>\n",
              "      <th>13</th>\n",
              "      <td>23ca371a7498da634cc333116b848da08af9ba5e7880e8...</td>\n",
              "      <td>20/01/19</td>\n",
              "      <td>19/02/19</td>\n",
              "      <td>21/02/19</td>\n",
              "      <td>2</td>\n",
              "      <td>2</td>\n",
              "      <td>2</td>\n",
              "      <td>0</td>\n",
              "      <td>45</td>\n",
              "      <td>1</td>\n",
              "      <td>...</td>\n",
              "      <td>D</td>\n",
              "      <td>1</td>\n",
              "      <td>ba9c03d4f964eb145ffc0ba7d07aa0b08e35cb3e8f71bc...</td>\n",
              "      <td>F</td>\n",
              "      <td>A</td>\n",
              "      <td>e29c9c180c6279b0b02abd6a1801c7c04082cf486ec027...</td>\n",
              "      <td>2019-02-19</td>\n",
              "      <td>2019-02-21</td>\n",
              "      <td>2019-01-20</td>\n",
              "      <td>1</td>\n",
              "    </tr>\n",
              "    <tr>\n",
              "      <th>14</th>\n",
              "      <td>32c2bd7ff3b0d092e046dd10811f0bee2a896fc241e76e...</td>\n",
              "      <td>03/03/18</td>\n",
              "      <td>06/04/18</td>\n",
              "      <td>07/04/18</td>\n",
              "      <td>3</td>\n",
              "      <td>2</td>\n",
              "      <td>4</td>\n",
              "      <td>0</td>\n",
              "      <td>45</td>\n",
              "      <td>2</td>\n",
              "      <td>...</td>\n",
              "      <td>F</td>\n",
              "      <td>1</td>\n",
              "      <td>4f64b4eeb62f411e9a8d8d16a24cac5be582af18d7bd5b...</td>\n",
              "      <td>C</td>\n",
              "      <td>A</td>\n",
              "      <td>9400f1b21cb527d7fa3d3eabba93557a18ebe7a2ca4e47...</td>\n",
              "      <td>2018-04-06</td>\n",
              "      <td>2018-04-07</td>\n",
              "      <td>2018-03-03</td>\n",
              "      <td>3</td>\n",
              "    </tr>\n",
              "    <tr>\n",
              "      <th>15</th>\n",
              "      <td>7851d4c09b327e1ae935e158de1c448d69d56fc22aecc0...</td>\n",
              "      <td>11/07/15</td>\n",
              "      <td>11/07/15</td>\n",
              "      <td>12/07/15</td>\n",
              "      <td>3</td>\n",
              "      <td>2</td>\n",
              "      <td>4</td>\n",
              "      <td>0</td>\n",
              "      <td>45</td>\n",
              "      <td>2</td>\n",
              "      <td>...</td>\n",
              "      <td>F</td>\n",
              "      <td>1</td>\n",
              "      <td>4f64b4eeb62f411e9a8d8d16a24cac5be582af18d7bd5b...</td>\n",
              "      <td>D</td>\n",
              "      <td>A</td>\n",
              "      <td>d4735e3a265e16eee03f59718b9b5d03019c07d8b6c51f...</td>\n",
              "      <td>2015-07-11</td>\n",
              "      <td>2015-07-12</td>\n",
              "      <td>2015-07-11</td>\n",
              "      <td>7</td>\n",
              "    </tr>\n",
              "    <tr>\n",
              "      <th>16</th>\n",
              "      <td>6b1ecc1e74ab96e77096d2da2d199e437537bed7aab1eb...</td>\n",
              "      <td>04/01/16</td>\n",
              "      <td>18/02/16</td>\n",
              "      <td>19/02/16</td>\n",
              "      <td>3</td>\n",
              "      <td>2</td>\n",
              "      <td>2</td>\n",
              "      <td>0</td>\n",
              "      <td>45</td>\n",
              "      <td>2</td>\n",
              "      <td>...</td>\n",
              "      <td>F</td>\n",
              "      <td>1</td>\n",
              "      <td>4f64b4eeb62f411e9a8d8d16a24cac5be582af18d7bd5b...</td>\n",
              "      <td>C</td>\n",
              "      <td>B</td>\n",
              "      <td>9400f1b21cb527d7fa3d3eabba93557a18ebe7a2ca4e47...</td>\n",
              "      <td>2016-02-18</td>\n",
              "      <td>2016-02-19</td>\n",
              "      <td>2016-01-04</td>\n",
              "      <td>1</td>\n",
              "    </tr>\n",
              "    <tr>\n",
              "      <th>17</th>\n",
              "      <td>6526b012e84cb02f904fec5becc67421fc170f13949c87...</td>\n",
              "      <td>21/05/16</td>\n",
              "      <td>04/08/16</td>\n",
              "      <td>05/08/16</td>\n",
              "      <td>1</td>\n",
              "      <td>2</td>\n",
              "      <td>6</td>\n",
              "      <td>0</td>\n",
              "      <td>45</td>\n",
              "      <td>2</td>\n",
              "      <td>...</td>\n",
              "      <td>F</td>\n",
              "      <td>1</td>\n",
              "      <td>4f64b4eeb62f411e9a8d8d16a24cac5be582af18d7bd5b...</td>\n",
              "      <td>D</td>\n",
              "      <td>C</td>\n",
              "      <td>d4735e3a265e16eee03f59718b9b5d03019c07d8b6c51f...</td>\n",
              "      <td>2016-08-04</td>\n",
              "      <td>2016-08-05</td>\n",
              "      <td>2016-05-21</td>\n",
              "      <td>5</td>\n",
              "    </tr>\n",
              "    <tr>\n",
              "      <th>18</th>\n",
              "      <td>cdc3cf19518e9b75c5da4f01112a6271cb25a569c1a49b...</td>\n",
              "      <td>27/05/16</td>\n",
              "      <td>04/06/16</td>\n",
              "      <td>07/06/16</td>\n",
              "      <td>3</td>\n",
              "      <td>2</td>\n",
              "      <td>4</td>\n",
              "      <td>0</td>\n",
              "      <td>47</td>\n",
              "      <td>1</td>\n",
              "      <td>...</td>\n",
              "      <td>F</td>\n",
              "      <td>1</td>\n",
              "      <td>4f64b4eeb62f411e9a8d8d16a24cac5be582af18d7bd5b...</td>\n",
              "      <td>F</td>\n",
              "      <td>A</td>\n",
              "      <td>b17ef6d19c7a5b1ee83b907c595526dcb1eb06db8227d6...</td>\n",
              "      <td>2016-06-04</td>\n",
              "      <td>2016-06-07</td>\n",
              "      <td>2016-05-27</td>\n",
              "      <td>5</td>\n",
              "    </tr>\n",
              "    <tr>\n",
              "      <th>19</th>\n",
              "      <td>d9a6e89cf8e7f189b5a48ea33f3b24608fa8b0cdc09145...</td>\n",
              "      <td>08/12/16</td>\n",
              "      <td>16/12/16</td>\n",
              "      <td>17/12/16</td>\n",
              "      <td>1</td>\n",
              "      <td>2</td>\n",
              "      <td>2</td>\n",
              "      <td>0</td>\n",
              "      <td>47</td>\n",
              "      <td>1</td>\n",
              "      <td>...</td>\n",
              "      <td>F</td>\n",
              "      <td>1</td>\n",
              "      <td>4f64b4eeb62f411e9a8d8d16a24cac5be582af18d7bd5b...</td>\n",
              "      <td>E</td>\n",
              "      <td>A</td>\n",
              "      <td>c75cb66ae28d8ebc6eded002c28a8ba0d06d3a78c6b5cb...</td>\n",
              "      <td>2016-12-16</td>\n",
              "      <td>2016-12-17</td>\n",
              "      <td>2016-12-08</td>\n",
              "      <td>12</td>\n",
              "    </tr>\n",
              "  </tbody>\n",
              "</table>\n",
              "<p>20 rows × 27 columns</p>\n",
              "</div>"
            ],
            "text/plain": [
              "                                       reservation_id booking_date  \\\n",
              "0   7dae1ce6bc8f69481328f2be5c4943077dad5598b5f66d...     05/04/18   \n",
              "1   fe0d4e444e1818436c88f72f1cf800536c2f785e59baeb...     24/05/15   \n",
              "2   540bd4285ad8168e8388f84ee74a82cd4f97dc0a404d3e...     21/07/15   \n",
              "3   09593c907ae262e46f655b4db9e14f54a19eadcfdd2679...     31/07/15   \n",
              "4   f4c50caac68051faf37551d70bb17eebef2a20e2244cb1...     01/07/16   \n",
              "5   69a8c691057e9396eaa23625a47435eebda41102b83dfb...     31/07/17   \n",
              "6   0cee97bb4f3b15493d20994fc4ef34b54d778f8eb7e6d3...     02/10/17   \n",
              "7   13fd266f2859828250494a72c5e14d12dfdb6cac0983d8...     05/04/18   \n",
              "8   8a0e44a731edd24628fa9e9d5d2ed9b22f07e91b6881f2...     19/06/17   \n",
              "9   c3bdb69eedad1a992df7be568e50da86a4e1de8ad7ff36...     12/02/18   \n",
              "10  dda0409fb2127899829ec700d635f81ca656081af07e92...     20/02/18   \n",
              "11  9e086496b64ce3b184f41f76f93dd294bfa47b735ec53e...     12/03/18   \n",
              "12  f8909ee404b8c0b63356700b32cbb49b85999aedfbc477...     04/01/19   \n",
              "13  23ca371a7498da634cc333116b848da08af9ba5e7880e8...     20/01/19   \n",
              "14  32c2bd7ff3b0d092e046dd10811f0bee2a896fc241e76e...     03/03/18   \n",
              "15  7851d4c09b327e1ae935e158de1c448d69d56fc22aecc0...     11/07/15   \n",
              "16  6b1ecc1e74ab96e77096d2da2d199e437537bed7aab1eb...     04/01/16   \n",
              "17  6526b012e84cb02f904fec5becc67421fc170f13949c87...     21/05/16   \n",
              "18  cdc3cf19518e9b75c5da4f01112a6271cb25a569c1a49b...     27/05/16   \n",
              "19  d9a6e89cf8e7f189b5a48ea33f3b24608fa8b0cdc09145...     08/12/16   \n",
              "\n",
              "   checkin_date checkout_date  channel_code  main_product_code  \\\n",
              "0      05/04/18      06/04/18             3                  2   \n",
              "1      23/06/15      27/06/15             1                  2   \n",
              "2      07/08/15      10/08/15             3                  2   \n",
              "3      22/10/15      25/10/15             1                  2   \n",
              "4      01/10/16      05/10/16             1                  2   \n",
              "5      15/08/17      19/08/17             1                  2   \n",
              "6      18/01/18      22/01/18             1                  2   \n",
              "7      05/04/18      06/04/18             3                  2   \n",
              "8      02/07/17      04/07/17             1                  2   \n",
              "9      19/02/18      21/02/18             2                  2   \n",
              "10     03/04/18      05/04/18             1                  2   \n",
              "11     23/03/18      25/03/18             3                  2   \n",
              "12     17/01/19      21/01/19             1                  2   \n",
              "13     19/02/19      21/02/19             2                  2   \n",
              "14     06/04/18      07/04/18             3                  2   \n",
              "15     11/07/15      12/07/15             3                  2   \n",
              "16     18/02/16      19/02/16             3                  2   \n",
              "17     04/08/16      05/08/16             1                  2   \n",
              "18     04/06/16      07/06/16             3                  2   \n",
              "19     16/12/16      17/12/16             1                  2   \n",
              "\n",
              "    numberofadults  numberofchildren  persontravellingid  resort_region_code  \\\n",
              "0                2                 0                  45                   3   \n",
              "1                4                 0                  45                   1   \n",
              "2                3                 0                  45                   2   \n",
              "3                3                 0                  45                   1   \n",
              "4                4                 0                  45                   1   \n",
              "5                2                 0                  45                   1   \n",
              "6                2                 0                  45                   2   \n",
              "7                2                 0                  45                   1   \n",
              "8                2                 2                  45                   1   \n",
              "9                2                 0                  45                   1   \n",
              "10               2                 2                  45                   1   \n",
              "11               6                 0                  45                   1   \n",
              "12               3                 0                  45                   3   \n",
              "13               2                 0                  45                   1   \n",
              "14               4                 0                  45                   2   \n",
              "15               4                 0                  45                   2   \n",
              "16               2                 0                  45                   2   \n",
              "17               6                 0                  45                   2   \n",
              "18               4                 0                  47                   1   \n",
              "19               2                 0                  47                   1   \n",
              "\n",
              "    ...  member_age_buckets  booking_type_code  \\\n",
              "0   ...                   H                  1   \n",
              "1   ...                   H                  1   \n",
              "2   ...                   H                  1   \n",
              "3   ...                   H                  1   \n",
              "4   ...                   H                  1   \n",
              "5   ...                   H                  1   \n",
              "6   ...                   H                  1   \n",
              "7   ...                   D                  1   \n",
              "8   ...                   D                  1   \n",
              "9   ...                   D                  1   \n",
              "10  ...                   D                  1   \n",
              "11  ...                   D                  1   \n",
              "12  ...                   D                  1   \n",
              "13  ...                   D                  1   \n",
              "14  ...                   F                  1   \n",
              "15  ...                   F                  1   \n",
              "16  ...                   F                  1   \n",
              "17  ...                   F                  1   \n",
              "18  ...                   F                  1   \n",
              "19  ...                   F                  1   \n",
              "\n",
              "                                             memberid  cluster_code  \\\n",
              "0   2114944930dcc42ce5b9b50ae965cf8a9c04e46be63d84...             A   \n",
              "1   2114944930dcc42ce5b9b50ae965cf8a9c04e46be63d84...             F   \n",
              "2   2114944930dcc42ce5b9b50ae965cf8a9c04e46be63d84...             D   \n",
              "3   2114944930dcc42ce5b9b50ae965cf8a9c04e46be63d84...             F   \n",
              "4   2114944930dcc42ce5b9b50ae965cf8a9c04e46be63d84...             F   \n",
              "5   2114944930dcc42ce5b9b50ae965cf8a9c04e46be63d84...             F   \n",
              "6   2114944930dcc42ce5b9b50ae965cf8a9c04e46be63d84...             D   \n",
              "7   ba9c03d4f964eb145ffc0ba7d07aa0b08e35cb3e8f71bc...             E   \n",
              "8   ba9c03d4f964eb145ffc0ba7d07aa0b08e35cb3e8f71bc...             F   \n",
              "9   ba9c03d4f964eb145ffc0ba7d07aa0b08e35cb3e8f71bc...             F   \n",
              "10  ba9c03d4f964eb145ffc0ba7d07aa0b08e35cb3e8f71bc...             E   \n",
              "11  ba9c03d4f964eb145ffc0ba7d07aa0b08e35cb3e8f71bc...             F   \n",
              "12  ba9c03d4f964eb145ffc0ba7d07aa0b08e35cb3e8f71bc...             A   \n",
              "13  ba9c03d4f964eb145ffc0ba7d07aa0b08e35cb3e8f71bc...             F   \n",
              "14  4f64b4eeb62f411e9a8d8d16a24cac5be582af18d7bd5b...             C   \n",
              "15  4f64b4eeb62f411e9a8d8d16a24cac5be582af18d7bd5b...             D   \n",
              "16  4f64b4eeb62f411e9a8d8d16a24cac5be582af18d7bd5b...             C   \n",
              "17  4f64b4eeb62f411e9a8d8d16a24cac5be582af18d7bd5b...             D   \n",
              "18  4f64b4eeb62f411e9a8d8d16a24cac5be582af18d7bd5b...             F   \n",
              "19  4f64b4eeb62f411e9a8d8d16a24cac5be582af18d7bd5b...             E   \n",
              "\n",
              "    reservationstatusid_code  \\\n",
              "0                          C   \n",
              "1                          A   \n",
              "2                          A   \n",
              "3                          A   \n",
              "4                          A   \n",
              "5                          A   \n",
              "6                          A   \n",
              "7                          C   \n",
              "8                          A   \n",
              "9                          A   \n",
              "10                         A   \n",
              "11                         A   \n",
              "12                         A   \n",
              "13                         A   \n",
              "14                         A   \n",
              "15                         A   \n",
              "16                         B   \n",
              "17                         C   \n",
              "18                         A   \n",
              "19                         A   \n",
              "\n",
              "                                            resort_id  new_checkin  \\\n",
              "0   9f14025af0065b30e47e23ebb3b491d39ae8ed17d33739...   2018-04-05   \n",
              "1   e7f6c011776e8db7cd330b54174fd76f7d0216b612387a...   2015-06-23   \n",
              "2   d4735e3a265e16eee03f59718b9b5d03019c07d8b6c51f...   2015-08-07   \n",
              "3   49d180ecf56132819571bf39d9b7b342522a2ac6d23c14...   2015-10-22   \n",
              "4   e29c9c180c6279b0b02abd6a1801c7c04082cf486ec027...   2016-10-01   \n",
              "5   b17ef6d19c7a5b1ee83b907c595526dcb1eb06db8227d6...   2017-08-15   \n",
              "6   d4735e3a265e16eee03f59718b9b5d03019c07d8b6c51f...   2018-01-18   \n",
              "7   c75cb66ae28d8ebc6eded002c28a8ba0d06d3a78c6b5cb...   2018-04-05   \n",
              "8   b17ef6d19c7a5b1ee83b907c595526dcb1eb06db8227d6...   2017-07-02   \n",
              "9   b17ef6d19c7a5b1ee83b907c595526dcb1eb06db8227d6...   2018-02-19   \n",
              "10  535fa30d7e25dd8a49f1536779734ec8286108d115da50...   2018-04-03   \n",
              "11  3fdba35f04dc8c462986c992bcf875546257113072a909...   2018-03-23   \n",
              "12  7f2253d7e228b22a08bda1f09c516f6fead81df6536eb0...   2019-01-17   \n",
              "13  e29c9c180c6279b0b02abd6a1801c7c04082cf486ec027...   2019-02-19   \n",
              "14  9400f1b21cb527d7fa3d3eabba93557a18ebe7a2ca4e47...   2018-04-06   \n",
              "15  d4735e3a265e16eee03f59718b9b5d03019c07d8b6c51f...   2015-07-11   \n",
              "16  9400f1b21cb527d7fa3d3eabba93557a18ebe7a2ca4e47...   2016-02-18   \n",
              "17  d4735e3a265e16eee03f59718b9b5d03019c07d8b6c51f...   2016-08-04   \n",
              "18  b17ef6d19c7a5b1ee83b907c595526dcb1eb06db8227d6...   2016-06-04   \n",
              "19  c75cb66ae28d8ebc6eded002c28a8ba0d06d3a78c6b5cb...   2016-12-16   \n",
              "\n",
              "   new_checkout  new_booking booking_month  \n",
              "0    2018-04-06   2018-04-05             4  \n",
              "1    2015-06-27   2015-05-24             5  \n",
              "2    2015-08-10   2015-07-21             7  \n",
              "3    2015-10-25   2015-07-31             7  \n",
              "4    2016-10-05   2016-07-01             7  \n",
              "5    2017-08-19   2017-07-31             7  \n",
              "6    2018-01-22   2017-10-02            10  \n",
              "7    2018-04-06   2018-04-05             4  \n",
              "8    2017-07-04   2017-06-19             6  \n",
              "9    2018-02-21   2018-02-12             2  \n",
              "10   2018-04-05   2018-02-20             2  \n",
              "11   2018-03-25   2018-03-12             3  \n",
              "12   2019-01-21   2019-01-04             1  \n",
              "13   2019-02-21   2019-01-20             1  \n",
              "14   2018-04-07   2018-03-03             3  \n",
              "15   2015-07-12   2015-07-11             7  \n",
              "16   2016-02-19   2016-01-04             1  \n",
              "17   2016-08-05   2016-05-21             5  \n",
              "18   2016-06-07   2016-05-27             5  \n",
              "19   2016-12-17   2016-12-08            12  \n",
              "\n",
              "[20 rows x 27 columns]"
            ]
          },
          "metadata": {
            "tags": []
          },
          "execution_count": 13
        }
      ]
    },
    {
      "cell_type": "code",
      "metadata": {
        "id": "0h86A_Jp0RfX",
        "colab_type": "code",
        "colab": {}
      },
      "source": [
        "df.loc[:,\"checkin_month\"] = df[\"new_checkin\"].apply(lambda x : pd.to_datetime(x,format=\"%Y-%m-%d\").month)"
      ],
      "execution_count": 0,
      "outputs": []
    },
    {
      "cell_type": "code",
      "metadata": {
        "id": "2MSIFzZZ8Pur",
        "colab_type": "code",
        "colab": {}
      },
      "source": [
        ""
      ],
      "execution_count": 0,
      "outputs": []
    },
    {
      "cell_type": "code",
      "metadata": {
        "id": "EJxUfOJE0uc9",
        "colab_type": "code",
        "colab": {}
      },
      "source": [
        "df.loc[:,\"checkin_bookin\"] = pd.to_datetime(df[\"new_checkin\"],format=\"%Y-%m-%d\") - pd.to_datetime(df[\"new_booking\"],format=\"%Y-%m-%d\")\n",
        "df[\"checkin_bookin\"] = df[\"checkin_bookin\"].dt.days"
      ],
      "execution_count": 0,
      "outputs": []
    },
    {
      "cell_type": "code",
      "metadata": {
        "id": "4C0yeW0N1LQG",
        "colab_type": "code",
        "colab": {}
      },
      "source": [
        "\n",
        "df.loc[:,\"same_day\"] = df[\"checkin_bookin\"].apply(lambda x : 1 if x != 0 else 0)"
      ],
      "execution_count": 0,
      "outputs": []
    },
    {
      "cell_type": "code",
      "metadata": {
        "id": "EfYPw_XN1gcD",
        "colab_type": "code",
        "colab": {}
      },
      "source": [
        "df.loc[:,\"days_staying\"] = pd.to_datetime(df[\"new_checkout\"],format=\"%Y-%m-%d\") - pd.to_datetime(df[\"new_checkin\"],format=\"%Y-%m-%d\")\n",
        "df[\"days_staying\"] = df[\"days_staying\"].dt.days"
      ],
      "execution_count": 0,
      "outputs": []
    },
    {
      "cell_type": "code",
      "metadata": {
        "id": "xdE0XmYm1m8x",
        "colab_type": "code",
        "outputId": "169a0569-f67f-45cb-edea-a42fb9d6aa5f",
        "colab": {
          "base_uri": "https://localhost:8080/",
          "height": 253
        }
      },
      "source": [
        "df.head()"
      ],
      "execution_count": 18,
      "outputs": [
        {
          "output_type": "execute_result",
          "data": {
            "text/html": [
              "<div>\n",
              "<style scoped>\n",
              "    .dataframe tbody tr th:only-of-type {\n",
              "        vertical-align: middle;\n",
              "    }\n",
              "\n",
              "    .dataframe tbody tr th {\n",
              "        vertical-align: top;\n",
              "    }\n",
              "\n",
              "    .dataframe thead th {\n",
              "        text-align: right;\n",
              "    }\n",
              "</style>\n",
              "<table border=\"1\" class=\"dataframe\">\n",
              "  <thead>\n",
              "    <tr style=\"text-align: right;\">\n",
              "      <th></th>\n",
              "      <th>reservation_id</th>\n",
              "      <th>booking_date</th>\n",
              "      <th>checkin_date</th>\n",
              "      <th>checkout_date</th>\n",
              "      <th>channel_code</th>\n",
              "      <th>main_product_code</th>\n",
              "      <th>numberofadults</th>\n",
              "      <th>numberofchildren</th>\n",
              "      <th>persontravellingid</th>\n",
              "      <th>resort_region_code</th>\n",
              "      <th>...</th>\n",
              "      <th>reservationstatusid_code</th>\n",
              "      <th>resort_id</th>\n",
              "      <th>new_checkin</th>\n",
              "      <th>new_checkout</th>\n",
              "      <th>new_booking</th>\n",
              "      <th>booking_month</th>\n",
              "      <th>checkin_month</th>\n",
              "      <th>checkin_bookin</th>\n",
              "      <th>same_day</th>\n",
              "      <th>days_staying</th>\n",
              "    </tr>\n",
              "  </thead>\n",
              "  <tbody>\n",
              "    <tr>\n",
              "      <th>0</th>\n",
              "      <td>7dae1ce6bc8f69481328f2be5c4943077dad5598b5f66d...</td>\n",
              "      <td>05/04/18</td>\n",
              "      <td>05/04/18</td>\n",
              "      <td>06/04/18</td>\n",
              "      <td>3</td>\n",
              "      <td>2</td>\n",
              "      <td>2</td>\n",
              "      <td>0</td>\n",
              "      <td>45</td>\n",
              "      <td>3</td>\n",
              "      <td>...</td>\n",
              "      <td>C</td>\n",
              "      <td>9f14025af0065b30e47e23ebb3b491d39ae8ed17d33739...</td>\n",
              "      <td>2018-04-05</td>\n",
              "      <td>2018-04-06</td>\n",
              "      <td>2018-04-05</td>\n",
              "      <td>4</td>\n",
              "      <td>4</td>\n",
              "      <td>0</td>\n",
              "      <td>0</td>\n",
              "      <td>1</td>\n",
              "    </tr>\n",
              "    <tr>\n",
              "      <th>1</th>\n",
              "      <td>fe0d4e444e1818436c88f72f1cf800536c2f785e59baeb...</td>\n",
              "      <td>24/05/15</td>\n",
              "      <td>23/06/15</td>\n",
              "      <td>27/06/15</td>\n",
              "      <td>1</td>\n",
              "      <td>2</td>\n",
              "      <td>4</td>\n",
              "      <td>0</td>\n",
              "      <td>45</td>\n",
              "      <td>1</td>\n",
              "      <td>...</td>\n",
              "      <td>A</td>\n",
              "      <td>e7f6c011776e8db7cd330b54174fd76f7d0216b612387a...</td>\n",
              "      <td>2015-06-23</td>\n",
              "      <td>2015-06-27</td>\n",
              "      <td>2015-05-24</td>\n",
              "      <td>5</td>\n",
              "      <td>6</td>\n",
              "      <td>30</td>\n",
              "      <td>1</td>\n",
              "      <td>4</td>\n",
              "    </tr>\n",
              "    <tr>\n",
              "      <th>2</th>\n",
              "      <td>540bd4285ad8168e8388f84ee74a82cd4f97dc0a404d3e...</td>\n",
              "      <td>21/07/15</td>\n",
              "      <td>07/08/15</td>\n",
              "      <td>10/08/15</td>\n",
              "      <td>3</td>\n",
              "      <td>2</td>\n",
              "      <td>3</td>\n",
              "      <td>0</td>\n",
              "      <td>45</td>\n",
              "      <td>2</td>\n",
              "      <td>...</td>\n",
              "      <td>A</td>\n",
              "      <td>d4735e3a265e16eee03f59718b9b5d03019c07d8b6c51f...</td>\n",
              "      <td>2015-08-07</td>\n",
              "      <td>2015-08-10</td>\n",
              "      <td>2015-07-21</td>\n",
              "      <td>7</td>\n",
              "      <td>8</td>\n",
              "      <td>17</td>\n",
              "      <td>1</td>\n",
              "      <td>3</td>\n",
              "    </tr>\n",
              "    <tr>\n",
              "      <th>3</th>\n",
              "      <td>09593c907ae262e46f655b4db9e14f54a19eadcfdd2679...</td>\n",
              "      <td>31/07/15</td>\n",
              "      <td>22/10/15</td>\n",
              "      <td>25/10/15</td>\n",
              "      <td>1</td>\n",
              "      <td>2</td>\n",
              "      <td>3</td>\n",
              "      <td>0</td>\n",
              "      <td>45</td>\n",
              "      <td>1</td>\n",
              "      <td>...</td>\n",
              "      <td>A</td>\n",
              "      <td>49d180ecf56132819571bf39d9b7b342522a2ac6d23c14...</td>\n",
              "      <td>2015-10-22</td>\n",
              "      <td>2015-10-25</td>\n",
              "      <td>2015-07-31</td>\n",
              "      <td>7</td>\n",
              "      <td>10</td>\n",
              "      <td>83</td>\n",
              "      <td>1</td>\n",
              "      <td>3</td>\n",
              "    </tr>\n",
              "    <tr>\n",
              "      <th>4</th>\n",
              "      <td>f4c50caac68051faf37551d70bb17eebef2a20e2244cb1...</td>\n",
              "      <td>01/07/16</td>\n",
              "      <td>01/10/16</td>\n",
              "      <td>05/10/16</td>\n",
              "      <td>1</td>\n",
              "      <td>2</td>\n",
              "      <td>4</td>\n",
              "      <td>0</td>\n",
              "      <td>45</td>\n",
              "      <td>1</td>\n",
              "      <td>...</td>\n",
              "      <td>A</td>\n",
              "      <td>e29c9c180c6279b0b02abd6a1801c7c04082cf486ec027...</td>\n",
              "      <td>2016-10-01</td>\n",
              "      <td>2016-10-05</td>\n",
              "      <td>2016-07-01</td>\n",
              "      <td>7</td>\n",
              "      <td>10</td>\n",
              "      <td>92</td>\n",
              "      <td>1</td>\n",
              "      <td>4</td>\n",
              "    </tr>\n",
              "  </tbody>\n",
              "</table>\n",
              "<p>5 rows × 31 columns</p>\n",
              "</div>"
            ],
            "text/plain": [
              "                                      reservation_id booking_date  \\\n",
              "0  7dae1ce6bc8f69481328f2be5c4943077dad5598b5f66d...     05/04/18   \n",
              "1  fe0d4e444e1818436c88f72f1cf800536c2f785e59baeb...     24/05/15   \n",
              "2  540bd4285ad8168e8388f84ee74a82cd4f97dc0a404d3e...     21/07/15   \n",
              "3  09593c907ae262e46f655b4db9e14f54a19eadcfdd2679...     31/07/15   \n",
              "4  f4c50caac68051faf37551d70bb17eebef2a20e2244cb1...     01/07/16   \n",
              "\n",
              "  checkin_date checkout_date  channel_code  main_product_code  numberofadults  \\\n",
              "0     05/04/18      06/04/18             3                  2               2   \n",
              "1     23/06/15      27/06/15             1                  2               4   \n",
              "2     07/08/15      10/08/15             3                  2               3   \n",
              "3     22/10/15      25/10/15             1                  2               3   \n",
              "4     01/10/16      05/10/16             1                  2               4   \n",
              "\n",
              "   numberofchildren  persontravellingid  resort_region_code  ...  \\\n",
              "0                 0                  45                   3  ...   \n",
              "1                 0                  45                   1  ...   \n",
              "2                 0                  45                   2  ...   \n",
              "3                 0                  45                   1  ...   \n",
              "4                 0                  45                   1  ...   \n",
              "\n",
              "   reservationstatusid_code  \\\n",
              "0                         C   \n",
              "1                         A   \n",
              "2                         A   \n",
              "3                         A   \n",
              "4                         A   \n",
              "\n",
              "                                           resort_id  new_checkin  \\\n",
              "0  9f14025af0065b30e47e23ebb3b491d39ae8ed17d33739...   2018-04-05   \n",
              "1  e7f6c011776e8db7cd330b54174fd76f7d0216b612387a...   2015-06-23   \n",
              "2  d4735e3a265e16eee03f59718b9b5d03019c07d8b6c51f...   2015-08-07   \n",
              "3  49d180ecf56132819571bf39d9b7b342522a2ac6d23c14...   2015-10-22   \n",
              "4  e29c9c180c6279b0b02abd6a1801c7c04082cf486ec027...   2016-10-01   \n",
              "\n",
              "   new_checkout  new_booking  booking_month  checkin_month checkin_bookin  \\\n",
              "0    2018-04-06   2018-04-05              4              4              0   \n",
              "1    2015-06-27   2015-05-24              5              6             30   \n",
              "2    2015-08-10   2015-07-21              7              8             17   \n",
              "3    2015-10-25   2015-07-31              7             10             83   \n",
              "4    2016-10-05   2016-07-01              7             10             92   \n",
              "\n",
              "   same_day days_staying  \n",
              "0         0            1  \n",
              "1         1            4  \n",
              "2         1            3  \n",
              "3         1            3  \n",
              "4         1            4  \n",
              "\n",
              "[5 rows x 31 columns]"
            ]
          },
          "metadata": {
            "tags": []
          },
          "execution_count": 18
        }
      ]
    },
    {
      "cell_type": "code",
      "metadata": {
        "id": "-M0JCGE99xG0",
        "colab_type": "code",
        "colab": {}
      },
      "source": [
        "redundant_cols = [\"booking_date\",\"checkin_date\",\"checkout_date\",\"new_booking\",\"new_checkin\",\"new_checkout\"] "
      ],
      "execution_count": 0,
      "outputs": []
    },
    {
      "cell_type": "code",
      "metadata": {
        "colab_type": "code",
        "id": "Vys6mqM8HdQu",
        "colab": {}
      },
      "source": [
        "df.drop(redundant_cols,inplace=True,axis=1)\n",
        "df.to_csv(\"date_pre.csv\",index=False)"
      ],
      "execution_count": 0,
      "outputs": []
    },
    {
      "cell_type": "code",
      "metadata": {
        "colab_type": "code",
        "outputId": "42bbfa36-b5c7-4a92-c3a2-29e7e9e4ee75",
        "id": "dqSXGGGtHcWC",
        "colab": {
          "base_uri": "https://localhost:8080/",
          "height": 527
        }
      },
      "source": [
        "df.info()\n",
        "r_id = df[\"reservation_id\"]\n",
        "df.drop([\"reservation_id\",\"memberid\"],inplace=True,axis=1)"
      ],
      "execution_count": 21,
      "outputs": [
        {
          "output_type": "stream",
          "text": [
            "<class 'pandas.core.frame.DataFrame'>\n",
            "RangeIndex: 146765 entries, 0 to 146764\n",
            "Data columns (total 25 columns):\n",
            "reservation_id              146765 non-null object\n",
            "channel_code                146765 non-null int64\n",
            "main_product_code           146765 non-null int64\n",
            "numberofadults              146765 non-null int64\n",
            "numberofchildren            146765 non-null int64\n",
            "persontravellingid          146765 non-null int64\n",
            "resort_region_code          146765 non-null int64\n",
            "resort_type_code            146765 non-null int64\n",
            "room_type_booked_code       146765 non-null int64\n",
            "roomnights                  146765 non-null int64\n",
            "season_holidayed_code       146730 non-null float64\n",
            "state_code_residence        144505 non-null float64\n",
            "state_code_resort           146765 non-null int64\n",
            "total_pax                   146765 non-null int64\n",
            "member_age_buckets          146765 non-null object\n",
            "booking_type_code           146765 non-null int64\n",
            "memberid                    146765 non-null object\n",
            "cluster_code                146765 non-null object\n",
            "reservationstatusid_code    146765 non-null object\n",
            "resort_id                   146765 non-null object\n",
            "booking_month               146765 non-null int64\n",
            "checkin_month               146765 non-null int64\n",
            "checkin_bookin              146765 non-null int64\n",
            "same_day                    146765 non-null int64\n",
            "days_staying                146765 non-null int64\n",
            "dtypes: float64(2), int64(17), object(6)\n",
            "memory usage: 28.0+ MB\n"
          ],
          "name": "stdout"
        }
      ]
    },
    {
      "cell_type": "code",
      "metadata": {
        "id": "yQpUGlhZFlz-",
        "colab_type": "code",
        "outputId": "13077f26-607b-4e22-d9e7-9ae7db777e2a",
        "colab": {
          "base_uri": "https://localhost:8080/",
          "height": 476
        }
      },
      "source": [
        "df.drop(\"resort_id\",inplace=True,axis=1)\n",
        "df.info()"
      ],
      "execution_count": 22,
      "outputs": [
        {
          "output_type": "stream",
          "text": [
            "<class 'pandas.core.frame.DataFrame'>\n",
            "RangeIndex: 146765 entries, 0 to 146764\n",
            "Data columns (total 22 columns):\n",
            "channel_code                146765 non-null int64\n",
            "main_product_code           146765 non-null int64\n",
            "numberofadults              146765 non-null int64\n",
            "numberofchildren            146765 non-null int64\n",
            "persontravellingid          146765 non-null int64\n",
            "resort_region_code          146765 non-null int64\n",
            "resort_type_code            146765 non-null int64\n",
            "room_type_booked_code       146765 non-null int64\n",
            "roomnights                  146765 non-null int64\n",
            "season_holidayed_code       146730 non-null float64\n",
            "state_code_residence        144505 non-null float64\n",
            "state_code_resort           146765 non-null int64\n",
            "total_pax                   146765 non-null int64\n",
            "member_age_buckets          146765 non-null object\n",
            "booking_type_code           146765 non-null int64\n",
            "cluster_code                146765 non-null object\n",
            "reservationstatusid_code    146765 non-null object\n",
            "booking_month               146765 non-null int64\n",
            "checkin_month               146765 non-null int64\n",
            "checkin_bookin              146765 non-null int64\n",
            "same_day                    146765 non-null int64\n",
            "days_staying                146765 non-null int64\n",
            "dtypes: float64(2), int64(17), object(3)\n",
            "memory usage: 24.6+ MB\n"
          ],
          "name": "stdout"
        }
      ]
    },
    {
      "cell_type": "code",
      "metadata": {
        "id": "Y0gyyAeAI_Sx",
        "colab_type": "code",
        "colab": {}
      },
      "source": [
        ""
      ],
      "execution_count": 0,
      "outputs": []
    },
    {
      "cell_type": "code",
      "metadata": {
        "id": "I2jVIzqgORdb",
        "colab_type": "code",
        "colab": {}
      },
      "source": [
        ""
      ],
      "execution_count": 0,
      "outputs": []
    },
    {
      "cell_type": "code",
      "metadata": {
        "id": "2bYTkoJFMMmo",
        "colab_type": "code",
        "outputId": "7588bcb3-246c-43f1-fd4c-72c8ef271ef3",
        "colab": {
          "base_uri": "https://localhost:8080/",
          "height": 163
        }
      },
      "source": [
        ""
      ],
      "execution_count": 23,
      "outputs": [
        {
          "output_type": "error",
          "ename": "NameError",
          "evalue": "ignored",
          "traceback": [
            "\u001b[0;31m---------------------------------------------------------------------------\u001b[0m",
            "\u001b[0;31mNameError\u001b[0m                                 Traceback (most recent call last)",
            "\u001b[0;32m<ipython-input-23-155aee937177>\u001b[0m in \u001b[0;36m<module>\u001b[0;34m()\u001b[0m\n\u001b[0;32m----> 1\u001b[0;31m \u001b[0mdf_dumm\u001b[0m\u001b[0;34m.\u001b[0m\u001b[0minfo\u001b[0m\u001b[0;34m(\u001b[0m\u001b[0;34m)\u001b[0m\u001b[0;34m\u001b[0m\u001b[0;34m\u001b[0m\u001b[0m\n\u001b[0m",
            "\u001b[0;31mNameError\u001b[0m: name 'df_dumm' is not defined"
          ]
        }
      ]
    },
    {
      "cell_type": "code",
      "metadata": {
        "id": "V1EQMxJmltIu",
        "colab_type": "code",
        "colab": {}
      },
      "source": [
        "df[\"season_holidayed_code\"].fillna(df[\"season_holidayed_code\"].mean(),inplace=True)\n"
      ],
      "execution_count": 0,
      "outputs": []
    },
    {
      "cell_type": "code",
      "metadata": {
        "id": "lCsepN2Inzd-",
        "colab_type": "code",
        "colab": {}
      },
      "source": [
        "df[\"state_code_residence\"].fillna(df[\"state_code_residence\"].mean(),inplace=True)"
      ],
      "execution_count": 0,
      "outputs": []
    },
    {
      "cell_type": "code",
      "metadata": {
        "id": "PEeUzXcToFWd",
        "colab_type": "code",
        "outputId": "39c63dc7-d392-4196-8791-c35e4283bf81",
        "colab": {
          "base_uri": "https://localhost:8080/",
          "height": 765
        }
      },
      "source": [
        "df_dumm = pd.get_dummies(df)\n",
        "columns = list(df.columns)\n",
        "df_dumm.info()"
      ],
      "execution_count": 31,
      "outputs": [
        {
          "output_type": "stream",
          "text": [
            "<class 'pandas.core.frame.DataFrame'>\n",
            "RangeIndex: 146765 entries, 0 to 146764\n",
            "Data columns (total 39 columns):\n",
            "channel_code                  146765 non-null int64\n",
            "main_product_code             146765 non-null int64\n",
            "numberofadults                146765 non-null int64\n",
            "numberofchildren              146765 non-null int64\n",
            "persontravellingid            146765 non-null int64\n",
            "resort_region_code            146765 non-null int64\n",
            "resort_type_code              146765 non-null int64\n",
            "room_type_booked_code         146765 non-null int64\n",
            "roomnights                    146765 non-null int64\n",
            "season_holidayed_code         146765 non-null float64\n",
            "state_code_residence          146765 non-null float64\n",
            "state_code_resort             146765 non-null int64\n",
            "total_pax                     146765 non-null int64\n",
            "booking_type_code             146765 non-null int64\n",
            "booking_month                 146765 non-null int64\n",
            "checkin_month                 146765 non-null int64\n",
            "checkin_bookin                146765 non-null int64\n",
            "same_day                      146765 non-null int64\n",
            "days_staying                  146765 non-null int64\n",
            "reservationstatusid_code_D    146765 non-null int64\n",
            "member_age_buckets_A          146765 non-null uint8\n",
            "member_age_buckets_B          146765 non-null uint8\n",
            "member_age_buckets_C          146765 non-null uint8\n",
            "member_age_buckets_D          146765 non-null uint8\n",
            "member_age_buckets_E          146765 non-null uint8\n",
            "member_age_buckets_F          146765 non-null uint8\n",
            "member_age_buckets_G          146765 non-null uint8\n",
            "member_age_buckets_H          146765 non-null uint8\n",
            "member_age_buckets_I          146765 non-null uint8\n",
            "member_age_buckets_J          146765 non-null uint8\n",
            "cluster_code_A                146765 non-null uint8\n",
            "cluster_code_B                146765 non-null uint8\n",
            "cluster_code_C                146765 non-null uint8\n",
            "cluster_code_D                146765 non-null uint8\n",
            "cluster_code_E                146765 non-null uint8\n",
            "cluster_code_F                146765 non-null uint8\n",
            "reservationstatusid_code_A    146765 non-null uint8\n",
            "reservationstatusid_code_B    146765 non-null uint8\n",
            "reservationstatusid_code_C    146765 non-null uint8\n",
            "dtypes: float64(2), int64(18), uint8(19)\n",
            "memory usage: 25.1 MB\n"
          ],
          "name": "stdout"
        }
      ]
    },
    {
      "cell_type": "code",
      "metadata": {
        "id": "sRLRUi8Xlc_V",
        "colab_type": "code",
        "outputId": "d0e4baad-6038-4aa8-e3da-2b8d8c9f29bf",
        "colab": {
          "base_uri": "https://localhost:8080/",
          "height": 284
        }
      },
      "source": [
        "for i in columns:\n",
        "  sns.distplot(df[\"total_pax\"],kde=False)"
      ],
      "execution_count": 27,
      "outputs": [
        {
          "output_type": "display_data",
          "data": {
            "image/png": "[encoded data removed]",
            "text/plain": [
              "<Figure size 432x288 with 1 Axes>"
            ]
          },
          "metadata": {
            "tags": []
          }
        }
      ]
    },
    {
      "cell_type": "code",
      "metadata": {
        "id": "qa2WYcaTlj05",
        "colab_type": "code",
        "colab": {}
      },
      "source": [
        "from sklearn.model_selection import cross_val_predict, GridSearchCV\n",
        "from sklearn.ensemble import RandomForestRegressor\n",
        "from sklearn.preprocessing import MinMaxScaler\n",
        "\n",
        "gsc = GridSearchCV(\n",
        "        estimator=RandomForestRegressor(),\n",
        "        param_grid={\n",
        "            'max_depth': (3,5,7),\n",
        "            'n_estimators': (10, 50, 80 ,100),\n",
        "        },\n",
        "        cv=5, scoring='neg_mean_squared_error', verbose=30,n_jobs=-1)"
      ],
      "execution_count": 0,
      "outputs": []
    },
    {
      "cell_type": "code",
      "metadata": {
        "id": "jCJQc_QAt1T-",
        "colab_type": "code",
        "outputId": "16abbfe8-3629-4a1e-8e98-8dda6215d147",
        "colab": {
          "base_uri": "https://localhost:8080/",
          "height": 255
        }
      },
      "source": [
        "y = df_dumm[\"amount_spent_per_room_night_scaled\"]\n",
        "X_df = df_dumm.drop(\"amount_spent_per_room_night_scaled\",axis=1)\n",
        "X_df.columns"
      ],
      "execution_count": 0,
      "outputs": [
        {
          "output_type": "execute_result",
          "data": {
            "text/plain": [
              "Index(['channel_code', 'main_product_code', 'numberofadults',\n",
              "       'numberofchildren', 'persontravellingid', 'resort_region_code',\n",
              "       'resort_type_code', 'room_type_booked_code', 'roomnights',\n",
              "       'season_holidayed_code', 'state_code_residence', 'state_code_resort',\n",
              "       'total_pax', 'booking_type_code', 'booking_month', 'checkin_month',\n",
              "       'checkin_bookin', 'same_day', 'days_staying', 'member_age_buckets_A',\n",
              "       'member_age_buckets_B', 'member_age_buckets_C', 'member_age_buckets_D',\n",
              "       'member_age_buckets_E', 'member_age_buckets_F', 'member_age_buckets_G',\n",
              "       'member_age_buckets_H', 'member_age_buckets_I', 'member_age_buckets_J',\n",
              "       'cluster_code_A', 'cluster_code_B', 'cluster_code_C', 'cluster_code_D',\n",
              "       'cluster_code_E', 'cluster_code_F', 'reservationstatusid_code_A',\n",
              "       'reservationstatusid_code_B', 'reservationstatusid_code_C',\n",
              "       'reservationstatusid_code_D'],\n",
              "      dtype='object')"
            ]
          },
          "metadata": {
            "tags": []
          },
          "execution_count": 215
        }
      ]
    },
    {
      "cell_type": "code",
      "metadata": {
        "id": "6jsAdXk9uZG7",
        "colab_type": "code",
        "outputId": "496a4f8a-79db-4926-d3f3-75d722556980",
        "colab": {
          "base_uri": "https://localhost:8080/",
          "height": 1054
        }
      },
      "source": [
        "grid_result = gsc.fit(X_df, y)\n",
        "best_params = grid_result.best_params_"
      ],
      "execution_count": 0,
      "outputs": [
        {
          "output_type": "stream",
          "text": [
            "Fitting 5 folds for each of 12 candidates, totalling 60 fits\n"
          ],
          "name": "stdout"
        },
        {
          "output_type": "stream",
          "text": [
            "[Parallel(n_jobs=-1)]: Using backend LokyBackend with 2 concurrent workers.\n",
            "[Parallel(n_jobs=-1)]: Done   1 tasks      | elapsed:    8.3s\n",
            "[Parallel(n_jobs=-1)]: Done   2 tasks      | elapsed:    8.4s\n",
            "[Parallel(n_jobs=-1)]: Done   3 tasks      | elapsed:   15.5s\n",
            "[Parallel(n_jobs=-1)]: Done   4 tasks      | elapsed:   16.2s\n",
            "[Parallel(n_jobs=-1)]: Done   5 tasks      | elapsed:   22.7s\n",
            "[Parallel(n_jobs=-1)]: Done   6 tasks      | elapsed:   54.2s\n",
            "[Parallel(n_jobs=-1)]: Done   7 tasks      | elapsed:   57.9s\n",
            "[Parallel(n_jobs=-1)]: Done   8 tasks      | elapsed:  1.5min\n",
            "[Parallel(n_jobs=-1)]: Done   9 tasks      | elapsed:  1.6min\n",
            "[Parallel(n_jobs=-1)]: Done  10 tasks      | elapsed:  2.2min\n",
            "[Parallel(n_jobs=-1)]: Done  11 tasks      | elapsed:  2.5min\n",
            "[Parallel(n_jobs=-1)]: Done  12 tasks      | elapsed:  3.2min\n",
            "[Parallel(n_jobs=-1)]: Done  13 tasks      | elapsed:  3.5min\n",
            "[Parallel(n_jobs=-1)]: Done  14 tasks      | elapsed:  4.2min\n",
            "[Parallel(n_jobs=-1)]: Done  15 tasks      | elapsed:  4.4min\n",
            "[Parallel(n_jobs=-1)]: Done  16 tasks      | elapsed:  5.5min\n",
            "[Parallel(n_jobs=-1)]: Done  17 tasks      | elapsed:  5.5min\n",
            "[Parallel(n_jobs=-1)]: Done  18 tasks      | elapsed:  6.7min\n",
            "[Parallel(n_jobs=-1)]: Done  19 tasks      | elapsed:  6.7min\n",
            "[Parallel(n_jobs=-1)]: Done  20 tasks      | elapsed:  7.0min\n",
            "[Parallel(n_jobs=-1)]: Done  21 tasks      | elapsed:  7.2min\n",
            "[Parallel(n_jobs=-1)]: Done  22 tasks      | elapsed:  7.4min\n",
            "[Parallel(n_jobs=-1)]: Done  23 tasks      | elapsed:  7.6min\n",
            "[Parallel(n_jobs=-1)]: Done  24 tasks      | elapsed:  7.8min\n",
            "[Parallel(n_jobs=-1)]: Done  25 tasks      | elapsed:  7.9min\n",
            "[Parallel(n_jobs=-1)]: Done  26 tasks      | elapsed:  8.9min\n",
            "[Parallel(n_jobs=-1)]: Done  27 tasks      | elapsed:  8.9min\n",
            "[Parallel(n_jobs=-1)]: Done  28 tasks      | elapsed:  9.9min\n",
            "[Parallel(n_jobs=-1)]: Done  29 tasks      | elapsed: 10.0min\n",
            "[Parallel(n_jobs=-1)]: Done  30 tasks      | elapsed: 10.9min\n",
            "[Parallel(n_jobs=-1)]: Done  31 tasks      | elapsed: 11.7min\n",
            "[Parallel(n_jobs=-1)]: Done  32 tasks      | elapsed: 12.5min\n",
            "[Parallel(n_jobs=-1)]: Done  33 tasks      | elapsed: 13.4min\n",
            "[Parallel(n_jobs=-1)]: Done  34 tasks      | elapsed: 14.1min\n",
            "[Parallel(n_jobs=-1)]: Done  35 tasks      | elapsed: 15.2min\n",
            "[Parallel(n_jobs=-1)]: Done  36 tasks      | elapsed: 16.1min\n",
            "[Parallel(n_jobs=-1)]: Done  37 tasks      | elapsed: 17.3min\n",
            "[Parallel(n_jobs=-1)]: Done  38 tasks      | elapsed: 18.1min\n",
            "[Parallel(n_jobs=-1)]: Done  39 tasks      | elapsed: 19.4min\n",
            "[Parallel(n_jobs=-1)]: Done  40 tasks      | elapsed: 19.7min\n",
            "[Parallel(n_jobs=-1)]: Done  41 tasks      | elapsed: 20.0min\n",
            "[Parallel(n_jobs=-1)]: Done  42 tasks      | elapsed: 20.1min\n",
            "[Parallel(n_jobs=-1)]: Done  43 tasks      | elapsed: 20.3min\n",
            "[Parallel(n_jobs=-1)]: Done  44 tasks      | elapsed: 20.4min\n",
            "[Parallel(n_jobs=-1)]: Done  45 tasks      | elapsed: 20.6min\n",
            "[Parallel(n_jobs=-1)]: Done  46 tasks      | elapsed: 21.8min\n",
            "[Parallel(n_jobs=-1)]: Done  47 tasks      | elapsed: 22.1min\n",
            "[Parallel(n_jobs=-1)]: Done  48 tasks      | elapsed: 23.2min\n",
            "[Parallel(n_jobs=-1)]: Done  49 tasks      | elapsed: 23.6min\n",
            "[Parallel(n_jobs=-1)]: Done  50 tasks      | elapsed: 24.6min\n",
            "[Parallel(n_jobs=-1)]: Done  51 tasks      | elapsed: 26.0min\n",
            "[Parallel(n_jobs=-1)]: Done  52 tasks      | elapsed: 26.8min\n",
            "[Parallel(n_jobs=-1)]: Done  53 tasks      | elapsed: 28.4min\n",
            "[Parallel(n_jobs=-1)]: Done  54 tasks      | elapsed: 29.1min\n",
            "[Parallel(n_jobs=-1)]: Done  55 tasks      | elapsed: 30.8min\n",
            "[Parallel(n_jobs=-1)]: Done  56 tasks      | elapsed: 31.9min\n",
            "[Parallel(n_jobs=-1)]: Done  57 tasks      | elapsed: 33.7min\n",
            "[Parallel(n_jobs=-1)]: Done  60 out of  60 | elapsed: 37.2min remaining:    0.0s\n",
            "[Parallel(n_jobs=-1)]: Done  60 out of  60 | elapsed: 37.2min finished\n"
          ],
          "name": "stderr"
        }
      ]
    },
    {
      "cell_type": "code",
      "metadata": {
        "id": "GkkmYXvNumRs",
        "colab_type": "code",
        "outputId": "aad39216-d53f-4438-ce42-ee815d655128",
        "colab": {
          "base_uri": "https://localhost:8080/",
          "height": 51
        }
      },
      "source": [
        "from sklearn.model_selection import cross_val_score\n",
        "rfr = RandomForestRegressor(max_depth=best_params[\"max_depth\"], n_estimators=best_params[\"n_estimators\"],random_state=False, verbose=10)\n",
        "\n",
        "scores = cross_val_score(rfr, X_df, y, cv=10, scoring='neg_mean_absolute_error')\n",
        "print(scores)"
      ],
      "execution_count": 0,
      "outputs": [
        {
          "output_type": "stream",
          "text": [
            "[-0.71097185 -0.71854596 -0.72886638 -0.73520719 -0.74387729 -0.73142354\n",
            " -0.74256896 -0.76675409 -0.78385225 -0.8196408 ]\n"
          ],
          "name": "stdout"
        }
      ]
    },
    {
      "cell_type": "code",
      "metadata": {
        "id": "EZPJIMqY1imx",
        "colab_type": "code",
        "outputId": "23f508d6-4ef9-4f3d-bf16-4402fd003eec",
        "colab": {
          "base_uri": "https://localhost:8080/",
          "height": 1581
        }
      },
      "source": [
        "from sklearn.externals import joblib\n",
        "rfr = RandomForestRegressor(max_depth=best_params[\"max_depth\"], n_estimators=best_params[\"n_estimators\"],random_state=False, verbose=10)\n",
        "rfr.fit(X_df,y)\n",
        "joblib.dump(rfr,\"rfr.pkl\")"
      ],
      "execution_count": 0,
      "outputs": [
        {
          "output_type": "stream",
          "text": [
            "[Parallel(n_jobs=1)]: Using backend SequentialBackend with 1 concurrent workers.\n"
          ],
          "name": "stderr"
        },
        {
          "output_type": "stream",
          "text": [
            "building tree 1 of 80\n"
          ],
          "name": "stdout"
        },
        {
          "output_type": "stream",
          "text": [
            "[Parallel(n_jobs=1)]: Done   1 out of   1 | elapsed:    1.3s remaining:    0.0s\n"
          ],
          "name": "stderr"
        },
        {
          "output_type": "stream",
          "text": [
            "building tree 2 of 80\n"
          ],
          "name": "stdout"
        },
        {
          "output_type": "stream",
          "text": [
            "[Parallel(n_jobs=1)]: Done   2 out of   2 | elapsed:    2.6s remaining:    0.0s\n"
          ],
          "name": "stderr"
        },
        {
          "output_type": "stream",
          "text": [
            "building tree 3 of 80\n"
          ],
          "name": "stdout"
        },
        {
          "output_type": "stream",
          "text": [
            "[Parallel(n_jobs=1)]: Done   3 out of   3 | elapsed:    3.9s remaining:    0.0s\n"
          ],
          "name": "stderr"
        },
        {
          "output_type": "stream",
          "text": [
            "building tree 4 of 80\n"
          ],
          "name": "stdout"
        },
        {
          "output_type": "stream",
          "text": [
            "[Parallel(n_jobs=1)]: Done   4 out of   4 | elapsed:    5.2s remaining:    0.0s\n"
          ],
          "name": "stderr"
        },
        {
          "output_type": "stream",
          "text": [
            "building tree 5 of 80\n"
          ],
          "name": "stdout"
        },
        {
          "output_type": "stream",
          "text": [
            "[Parallel(n_jobs=1)]: Done   5 out of   5 | elapsed:    6.5s remaining:    0.0s\n"
          ],
          "name": "stderr"
        },
        {
          "output_type": "stream",
          "text": [
            "building tree 6 of 80\n"
          ],
          "name": "stdout"
        },
        {
          "output_type": "stream",
          "text": [
            "[Parallel(n_jobs=1)]: Done   6 out of   6 | elapsed:    7.8s remaining:    0.0s\n"
          ],
          "name": "stderr"
        },
        {
          "output_type": "stream",
          "text": [
            "building tree 7 of 80\n"
          ],
          "name": "stdout"
        },
        {
          "output_type": "stream",
          "text": [
            "[Parallel(n_jobs=1)]: Done   7 out of   7 | elapsed:    9.2s remaining:    0.0s\n"
          ],
          "name": "stderr"
        },
        {
          "output_type": "stream",
          "text": [
            "building tree 8 of 80\n"
          ],
          "name": "stdout"
        },
        {
          "output_type": "stream",
          "text": [
            "[Parallel(n_jobs=1)]: Done   8 out of   8 | elapsed:   10.5s remaining:    0.0s\n"
          ],
          "name": "stderr"
        },
        {
          "output_type": "stream",
          "text": [
            "building tree 9 of 80\n"
          ],
          "name": "stdout"
        },
        {
          "output_type": "stream",
          "text": [
            "[Parallel(n_jobs=1)]: Done   9 out of   9 | elapsed:   11.8s remaining:    0.0s\n"
          ],
          "name": "stderr"
        },
        {
          "output_type": "stream",
          "text": [
            "building tree 10 of 80\n",
            "building tree 11 of 80\n",
            "building tree 12 of 80\n",
            "building tree 13 of 80\n",
            "building tree 14 of 80\n",
            "building tree 15 of 80\n",
            "building tree 16 of 80\n",
            "building tree 17 of 80\n",
            "building tree 18 of 80\n",
            "building tree 19 of 80\n",
            "building tree 20 of 80\n",
            "building tree 21 of 80\n",
            "building tree 22 of 80\n",
            "building tree 23 of 80\n",
            "building tree 24 of 80\n",
            "building tree 25 of 80\n",
            "building tree 26 of 80\n",
            "building tree 27 of 80\n",
            "building tree 28 of 80\n",
            "building tree 29 of 80\n",
            "building tree 30 of 80\n",
            "building tree 31 of 80\n",
            "building tree 32 of 80\n",
            "building tree 33 of 80\n",
            "building tree 34 of 80\n",
            "building tree 35 of 80\n",
            "building tree 36 of 80\n",
            "building tree 37 of 80\n",
            "building tree 38 of 80\n",
            "building tree 39 of 80\n",
            "building tree 40 of 80\n",
            "building tree 41 of 80\n",
            "building tree 42 of 80\n",
            "building tree 43 of 80\n",
            "building tree 44 of 80\n",
            "building tree 45 of 80\n",
            "building tree 46 of 80\n",
            "building tree 47 of 80\n",
            "building tree 48 of 80\n",
            "building tree 49 of 80\n",
            "building tree 50 of 80\n",
            "building tree 51 of 80\n",
            "building tree 52 of 80\n",
            "building tree 53 of 80\n",
            "building tree 54 of 80\n",
            "building tree 55 of 80\n",
            "building tree 56 of 80\n",
            "building tree 57 of 80\n",
            "building tree 58 of 80\n",
            "building tree 59 of 80\n",
            "building tree 60 of 80\n",
            "building tree 61 of 80\n",
            "building tree 62 of 80\n",
            "building tree 63 of 80\n",
            "building tree 64 of 80\n",
            "building tree 65 of 80\n",
            "building tree 66 of 80\n",
            "building tree 67 of 80\n",
            "building tree 68 of 80\n",
            "building tree 69 of 80\n",
            "building tree 70 of 80\n",
            "building tree 71 of 80\n",
            "building tree 72 of 80\n",
            "building tree 73 of 80\n",
            "building tree 74 of 80\n",
            "building tree 75 of 80\n",
            "building tree 76 of 80\n",
            "building tree 77 of 80\n",
            "building tree 78 of 80\n",
            "building tree 79 of 80\n",
            "building tree 80 of 80\n"
          ],
          "name": "stdout"
        },
        {
          "output_type": "stream",
          "text": [
            "[Parallel(n_jobs=1)]: Done  80 out of  80 | elapsed:  1.6min finished\n"
          ],
          "name": "stderr"
        },
        {
          "output_type": "execute_result",
          "data": {
            "text/plain": [
              "['rfr.pkl']"
            ]
          },
          "metadata": {
            "tags": []
          },
          "execution_count": 222
        }
      ]
    },
    {
      "cell_type": "code",
      "metadata": {
        "id": "ZOSk1s5VJW3M",
        "colab_type": "code",
        "colab": {}
      },
      "source": [
        "from google.colab import files\n",
        "files.download('rfr.pkl') "
      ],
      "execution_count": 0,
      "outputs": []
    },
    {
      "cell_type": "code",
      "metadata": {
        "id": "5PbV_CFiSDuh",
        "colab_type": "code",
        "colab": {}
      },
      "source": [
        "df_dumm.loc[:,\"reservationstatusid_code_D\"]=0"
      ],
      "execution_count": 0,
      "outputs": []
    },
    {
      "cell_type": "code",
      "metadata": {
        "id": "piTd7tj-UZs3",
        "colab_type": "code",
        "colab": {
          "base_uri": "https://localhost:8080/",
          "height": 204
        },
        "outputId": "5575b01f-a6af-4706-c1ca-9e42c511cc8a"
      },
      "source": [
        "from sklearn.externals import joblib\n",
        "rfr = joblib.load(\"rfr.pkl\")\n",
        "rfr_predict = rfr.predict(df_dumm.values)"
      ],
      "execution_count": 36,
      "outputs": [
        {
          "output_type": "stream",
          "text": [
            "[Parallel(n_jobs=1)]: Using backend SequentialBackend with 1 concurrent workers.\n",
            "[Parallel(n_jobs=1)]: Done   1 out of   1 | elapsed:    0.0s remaining:    0.0s\n",
            "[Parallel(n_jobs=1)]: Done   2 out of   2 | elapsed:    0.0s remaining:    0.0s\n",
            "[Parallel(n_jobs=1)]: Done   3 out of   3 | elapsed:    0.0s remaining:    0.0s\n",
            "[Parallel(n_jobs=1)]: Done   4 out of   4 | elapsed:    0.0s remaining:    0.0s\n",
            "[Parallel(n_jobs=1)]: Done   5 out of   5 | elapsed:    0.1s remaining:    0.0s\n",
            "[Parallel(n_jobs=1)]: Done   6 out of   6 | elapsed:    0.1s remaining:    0.0s\n",
            "[Parallel(n_jobs=1)]: Done   7 out of   7 | elapsed:    0.1s remaining:    0.0s\n",
            "[Parallel(n_jobs=1)]: Done   8 out of   8 | elapsed:    0.1s remaining:    0.0s\n",
            "[Parallel(n_jobs=1)]: Done   9 out of   9 | elapsed:    0.1s remaining:    0.0s\n",
            "[Parallel(n_jobs=1)]: Done  80 out of  80 | elapsed:    0.8s finished\n"
          ],
          "name": "stderr"
        }
      ]
    },
    {
      "cell_type": "code",
      "metadata": {
        "id": "Bp2ZP4rZUrFI",
        "colab_type": "code",
        "colab": {}
      },
      "source": [
        "final = pd.DataFrame()\n",
        "final.loc[:,\"reservation_id\"]=r_id\n",
        "final.loc[:,\"amount_spent_per_room_night_scaled\"]=rfr_predict"
      ],
      "execution_count": 0,
      "outputs": []
    },
    {
      "cell_type": "code",
      "metadata": {
        "id": "GLGvc-j1VkhD",
        "colab_type": "code",
        "colab": {}
      },
      "source": [
        "final.to_csv(\"result.csv\",index=False)"
      ],
      "execution_count": 0,
      "outputs": []
    },
    {
      "cell_type": "code",
      "metadata": {
        "id": "FGJX3L_FVqYy",
        "colab_type": "code",
        "colab": {}
      },
      "source": [
        "files.download(\"result.csv\")"
      ],
      "execution_count": 0,
      "outputs": []
    },
    {
      "cell_type": "code",
      "metadata": {
        "id": "P1WSld_bVvwm",
        "colab_type": "code",
        "colab": {}
      },
      "source": [
        ""
      ],
      "execution_count": 0,
      "outputs": []
    }
  ]
}